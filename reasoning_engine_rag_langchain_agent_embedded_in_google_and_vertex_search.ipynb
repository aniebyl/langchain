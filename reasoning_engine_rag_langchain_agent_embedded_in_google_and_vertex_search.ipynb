{
  "cells": [
    {
      "cell_type": "markdown",
      "metadata": {
        "id": "view-in-github",
        "colab_type": "text"
      },
      "source": [
        "<a href=\"https://colab.research.google.com/github/aniebyl/langchain/blob/master/reasoning_engine_rag_langchain_agent_embedded_in_google_and_vertex_search.ipynb\" target=\"_parent\"><img src=\"https://colab.research.google.com/assets/colab-badge.svg\" alt=\"Open In Colab\"/></a>"
      ]
    },
    {
      "cell_type": "code",
      "execution_count": 4,
      "metadata": {
        "id": "ijGzTHJJUCPY"
      },
      "outputs": [],
      "source": [
        "# Copyright 2024 Google LLC\n",
        "#\n",
        "# Licensed under the Apache License, Version 2.0 (the \"License\");\n",
        "# you may not use this file except in compliance with the License.\n",
        "# You may obtain a copy of the License at\n",
        "#\n",
        "#     https://www.apache.org/licenses/LICENSE-2.0\n",
        "#\n",
        "# Unless required by applicable law or agreed to in writing, software\n",
        "# distributed under the License is distributed on an \"AS IS\" BASIS,\n",
        "# WITHOUT WARRANTIES OR CONDITIONS OF ANY KIND, either express or implied.\n",
        "# See the License for the specific language governing permissions and\n",
        "# limitations under the License."
      ]
    },
    {
      "cell_type": "markdown",
      "metadata": {
        "id": "VEqbX8OhE8y9"
      },
      "source": [
        "# Building a Reasoning Engine RAG with LangChain and Embedded in Google Search and Vertex AI Vector Search\n",
        "\n",
        "<table align=\"left\">\n",
        "  <td style=\"text-align: center\">\n",
        "    <a href=\"https://colab.research.google.com/github/GoogleCloudPlatform/generative-ai/blob/main/gemini/reasoning-engine/tutorial_vertex_ai_search_rag_agent.ipynb\">\n",
        "      <img src=\"https://cloud.google.com/ml-engine/images/colab-logo-32px.png\" alt=\"Google Colaboratory logo\"><br> Run in Colab\n",
        "    </a>\n",
        "  </td>\n",
        "  <td style=\"text-align: center\">\n",
        "    <a href=\"https://console.cloud.google.com/vertex-ai/colab/import/https:%2F%2Fraw.githubusercontent.com%2FGoogleCloudPlatform%2Fgenerative-ai%2Fmain%2Fgemini%2Freasoning-engine%2Ftutorial_vertex_ai_search_rag_agent.ipynb\">\n",
        "      <img width=\"32px\" src=\"https://lh3.googleusercontent.com/JmcxdQi-qOpctIvWKgPtrzZdJJK-J3sWE1RsfjZNwshCFgE_9fULcNpuXYTilIR2hjwN\" alt=\"Google Cloud Colab Enterprise logo\"><br> Run in Colab Enterprise\n",
        "    </a>\n",
        "  </td>      \n",
        "  <td style=\"text-align: center\">\n",
        "    <a href=\"https://github.com/GoogleCloudPlatform/generative-ai/blob/main/gemini/reasoning-engine/tutorial_vertex_ai_search_rag_agent.ipynb\">\n",
        "      <img src=\"https://cloud.google.com/ml-engine/images/github-logo-32px.png\" alt=\"GitHub logo\"><br> View on GitHub\n",
        "    </a>\n",
        "  </td>\n",
        "  <td style=\"text-align: center\">\n",
        "    <a href=\"https://console.cloud.google.com/vertex-ai/workbench/deploy-notebook?download_url=https://raw.githubusercontent.com/GoogleCloudPlatform/generative-ai/main/gemini/reasoning-engine/tutorial_vertex_ai_search_rag_agent.ipynb\">\n",
        "      <img src=\"https://lh3.googleusercontent.com/UiNooY4LUgW_oTvpsNhPpQzsstV5W8F7rYgxgGBD85cWJoLmrOzhVs_ksK_vgx40SHs7jCqkTkCk=e14-rj-sc0xffffff-h130-w32\" alt=\"Vertex AI logo\"><br> Open in Vertex AI Workbench\n",
        "    </a>\n",
        "  </td>\n",
        "</table>\n"
      ]
    },
    {
      "cell_type": "markdown",
      "metadata": {
        "id": "j35dp_pjOg0P"
      },
      "source": [
        "| | |\n",
        "|-|-|\n",
        "|Author(s) | [Kristopher Overholt](https://github.com/koverholt) |"
      ]
    },
    {
      "cell_type": "markdown",
      "metadata": {
        "id": "r11Gu7qNgx1p"
      },
      "source": [
        "## Getting Started\n"
      ]
    },
    {
      "cell_type": "markdown",
      "metadata": {
        "id": "No17Cw5hgx12"
      },
      "source": [
        "### Install Vertex AI SDK for Python\n",
        "\n",
        "Install the latest version of the Vertex AI SDK for Python and extra dependencies related to Reasoning Engine, LangChain, and Vertex AI Search:"
      ]
    },
    {
      "cell_type": "code",
      "execution_count": 5,
      "metadata": {
        "colab": {
          "base_uri": "https://localhost:8080/",
          "height": 1000
        },
        "id": "tFy3H3aPgx12",
        "outputId": "2f428ad1-a874-4082-8f4c-b584c7140581"
      },
      "outputs": [
        {
          "output_type": "stream",
          "name": "stdout",
          "text": [
            "Requirement already satisfied: google-cloud-aiplatform in /usr/local/lib/python3.10/dist-packages (1.63.0)\n",
            "Collecting langchain_google_vertexai\n",
            "  Downloading langchain_google_vertexai-1.0.10-py3-none-any.whl.metadata (3.8 kB)\n",
            "Collecting langchain_google_community\n",
            "  Downloading langchain_google_community-1.0.8-py3-none-any.whl.metadata (3.4 kB)\n",
            "Collecting cloudpickle==3.0.0\n",
            "  Downloading cloudpickle-3.0.0-py3-none-any.whl.metadata (7.0 kB)\n",
            "Collecting pydantic==2.7.4\n",
            "  Downloading pydantic-2.7.4-py3-none-any.whl.metadata (109 kB)\n",
            "\u001b[2K     \u001b[90m━━━━━━━━━━━━━━━━━━━━━━━━━━━━━━━━━━━━━━━━\u001b[0m \u001b[32m109.4/109.4 kB\u001b[0m \u001b[31m6.8 MB/s\u001b[0m eta \u001b[36m0:00:00\u001b[0m\n",
            "\u001b[?25hCollecting google-cloud-discoveryengine\n",
            "  Downloading google_cloud_discoveryengine-0.12.1-py3-none-any.whl.metadata (5.2 kB)\n",
            "Requirement already satisfied: google-api-python-client in /usr/local/lib/python3.10/dist-packages (2.137.0)\n",
            "Collecting google-api-python-client\n",
            "  Downloading google_api_python_client-2.142.0-py2.py3-none-any.whl.metadata (6.7 kB)\n",
            "Requirement already satisfied: annotated-types>=0.4.0 in /usr/local/lib/python3.10/dist-packages (from pydantic==2.7.4) (0.7.0)\n",
            "Collecting pydantic-core==2.18.4 (from pydantic==2.7.4)\n",
            "  Downloading pydantic_core-2.18.4-cp310-cp310-manylinux_2_17_x86_64.manylinux2014_x86_64.whl.metadata (6.5 kB)\n",
            "Requirement already satisfied: typing-extensions>=4.6.1 in /usr/local/lib/python3.10/dist-packages (from pydantic==2.7.4) (4.12.2)\n",
            "Requirement already satisfied: google-api-core!=2.0.*,!=2.1.*,!=2.2.*,!=2.3.*,!=2.4.*,!=2.5.*,!=2.6.*,!=2.7.*,<3.0.0dev,>=1.34.1 in /usr/local/lib/python3.10/dist-packages (from google-api-core[grpc]!=2.0.*,!=2.1.*,!=2.2.*,!=2.3.*,!=2.4.*,!=2.5.*,!=2.6.*,!=2.7.*,<3.0.0dev,>=1.34.1->google-cloud-aiplatform) (2.19.1)\n",
            "Requirement already satisfied: google-auth<3.0.0dev,>=2.14.1 in /usr/local/lib/python3.10/dist-packages (from google-cloud-aiplatform) (2.27.0)\n",
            "Requirement already satisfied: proto-plus<2.0.0dev,>=1.22.3 in /usr/local/lib/python3.10/dist-packages (from google-cloud-aiplatform) (1.24.0)\n",
            "Requirement already satisfied: protobuf!=4.21.0,!=4.21.1,!=4.21.2,!=4.21.3,!=4.21.4,!=4.21.5,<6.0.0dev,>=3.20.2 in /usr/local/lib/python3.10/dist-packages (from google-cloud-aiplatform) (3.20.3)\n",
            "Requirement already satisfied: packaging>=14.3 in /usr/local/lib/python3.10/dist-packages (from google-cloud-aiplatform) (24.1)\n",
            "Requirement already satisfied: google-cloud-storage<3.0.0dev,>=1.32.0 in /usr/local/lib/python3.10/dist-packages (from google-cloud-aiplatform) (2.8.0)\n",
            "Requirement already satisfied: google-cloud-bigquery!=3.20.0,<4.0.0dev,>=1.15.0 in /usr/local/lib/python3.10/dist-packages (from google-cloud-aiplatform) (3.25.0)\n",
            "Requirement already satisfied: google-cloud-resource-manager<3.0.0dev,>=1.3.3 in /usr/local/lib/python3.10/dist-packages (from google-cloud-aiplatform) (1.12.5)\n",
            "Requirement already satisfied: shapely<3.0.0dev in /usr/local/lib/python3.10/dist-packages (from google-cloud-aiplatform) (2.0.6)\n",
            "Requirement already satisfied: docstring-parser<1 in /usr/local/lib/python3.10/dist-packages (from google-cloud-aiplatform) (0.16)\n",
            "Collecting google-cloud-storage<3.0.0dev,>=1.32.0 (from google-cloud-aiplatform)\n",
            "  Downloading google_cloud_storage-2.18.2-py2.py3-none-any.whl.metadata (9.1 kB)\n",
            "Collecting httpx<0.28.0,>=0.27.0 (from langchain_google_vertexai)\n",
            "  Downloading httpx-0.27.0-py3-none-any.whl.metadata (7.2 kB)\n",
            "Collecting httpx-sse<0.5.0,>=0.4.0 (from langchain_google_vertexai)\n",
            "  Downloading httpx_sse-0.4.0-py3-none-any.whl.metadata (9.0 kB)\n",
            "Collecting langchain-core<0.3,>=0.2.33 (from langchain_google_vertexai)\n",
            "  Downloading langchain_core-0.2.35-py3-none-any.whl.metadata (6.2 kB)\n",
            "Requirement already satisfied: grpcio<2.0.0,>=1.62.0 in /usr/local/lib/python3.10/dist-packages (from langchain_google_community) (1.64.1)\n",
            "Collecting langchain-community<0.3.0,>=0.2.1 (from langchain_google_community)\n",
            "  Downloading langchain_community-0.2.12-py3-none-any.whl.metadata (2.7 kB)\n",
            "Collecting tenacity<8.4.0,>=8.3.0 (from langchain_google_community)\n",
            "  Downloading tenacity-8.3.0-py3-none-any.whl.metadata (1.2 kB)\n",
            "Requirement already satisfied: httplib2<1.dev0,>=0.19.0 in /usr/local/lib/python3.10/dist-packages (from google-api-python-client) (0.22.0)\n",
            "Requirement already satisfied: google-auth-httplib2<1.0.0,>=0.2.0 in /usr/local/lib/python3.10/dist-packages (from google-api-python-client) (0.2.0)\n",
            "Requirement already satisfied: uritemplate<5,>=3.0.1 in /usr/local/lib/python3.10/dist-packages (from google-api-python-client) (4.1.1)\n",
            "Requirement already satisfied: googleapis-common-protos<2.0.dev0,>=1.56.2 in /usr/local/lib/python3.10/dist-packages (from google-api-core!=2.0.*,!=2.1.*,!=2.2.*,!=2.3.*,!=2.4.*,!=2.5.*,!=2.6.*,!=2.7.*,<3.0.0dev,>=1.34.1->google-api-core[grpc]!=2.0.*,!=2.1.*,!=2.2.*,!=2.3.*,!=2.4.*,!=2.5.*,!=2.6.*,!=2.7.*,<3.0.0dev,>=1.34.1->google-cloud-aiplatform) (1.63.2)\n",
            "Requirement already satisfied: requests<3.0.0.dev0,>=2.18.0 in /usr/local/lib/python3.10/dist-packages (from google-api-core!=2.0.*,!=2.1.*,!=2.2.*,!=2.3.*,!=2.4.*,!=2.5.*,!=2.6.*,!=2.7.*,<3.0.0dev,>=1.34.1->google-api-core[grpc]!=2.0.*,!=2.1.*,!=2.2.*,!=2.3.*,!=2.4.*,!=2.5.*,!=2.6.*,!=2.7.*,<3.0.0dev,>=1.34.1->google-cloud-aiplatform) (2.32.3)\n",
            "Requirement already satisfied: grpcio-status<2.0.dev0,>=1.33.2 in /usr/local/lib/python3.10/dist-packages (from google-api-core[grpc]!=2.0.*,!=2.1.*,!=2.2.*,!=2.3.*,!=2.4.*,!=2.5.*,!=2.6.*,!=2.7.*,<3.0.0dev,>=1.34.1->google-cloud-aiplatform) (1.48.2)\n",
            "Requirement already satisfied: cachetools<6.0,>=2.0.0 in /usr/local/lib/python3.10/dist-packages (from google-auth<3.0.0dev,>=2.14.1->google-cloud-aiplatform) (5.5.0)\n",
            "Requirement already satisfied: pyasn1-modules>=0.2.1 in /usr/local/lib/python3.10/dist-packages (from google-auth<3.0.0dev,>=2.14.1->google-cloud-aiplatform) (0.4.0)\n",
            "Requirement already satisfied: rsa<5,>=3.1.4 in /usr/local/lib/python3.10/dist-packages (from google-auth<3.0.0dev,>=2.14.1->google-cloud-aiplatform) (4.9)\n",
            "Requirement already satisfied: google-cloud-core<3.0.0dev,>=1.6.0 in /usr/local/lib/python3.10/dist-packages (from google-cloud-bigquery!=3.20.0,<4.0.0dev,>=1.15.0->google-cloud-aiplatform) (2.4.1)\n",
            "Requirement already satisfied: google-resumable-media<3.0dev,>=0.6.0 in /usr/local/lib/python3.10/dist-packages (from google-cloud-bigquery!=3.20.0,<4.0.0dev,>=1.15.0->google-cloud-aiplatform) (2.7.2)\n",
            "Requirement already satisfied: python-dateutil<3.0dev,>=2.7.2 in /usr/local/lib/python3.10/dist-packages (from google-cloud-bigquery!=3.20.0,<4.0.0dev,>=1.15.0->google-cloud-aiplatform) (2.8.2)\n",
            "Requirement already satisfied: grpc-google-iam-v1<1.0.0dev,>=0.12.4 in /usr/local/lib/python3.10/dist-packages (from google-cloud-resource-manager<3.0.0dev,>=1.3.3->google-cloud-aiplatform) (0.13.1)\n",
            "Requirement already satisfied: google-crc32c<2.0dev,>=1.0 in /usr/local/lib/python3.10/dist-packages (from google-cloud-storage<3.0.0dev,>=1.32.0->google-cloud-aiplatform) (1.5.0)\n",
            "Requirement already satisfied: pyparsing!=3.0.0,!=3.0.1,!=3.0.2,!=3.0.3,<4,>=2.4.2 in /usr/local/lib/python3.10/dist-packages (from httplib2<1.dev0,>=0.19.0->google-api-python-client) (3.1.2)\n",
            "Requirement already satisfied: anyio in /usr/local/lib/python3.10/dist-packages (from httpx<0.28.0,>=0.27.0->langchain_google_vertexai) (3.7.1)\n",
            "Requirement already satisfied: certifi in /usr/local/lib/python3.10/dist-packages (from httpx<0.28.0,>=0.27.0->langchain_google_vertexai) (2024.7.4)\n",
            "Collecting httpcore==1.* (from httpx<0.28.0,>=0.27.0->langchain_google_vertexai)\n",
            "  Downloading httpcore-1.0.5-py3-none-any.whl.metadata (20 kB)\n",
            "Requirement already satisfied: idna in /usr/local/lib/python3.10/dist-packages (from httpx<0.28.0,>=0.27.0->langchain_google_vertexai) (3.7)\n",
            "Requirement already satisfied: sniffio in /usr/local/lib/python3.10/dist-packages (from httpx<0.28.0,>=0.27.0->langchain_google_vertexai) (1.3.1)\n",
            "Collecting h11<0.15,>=0.13 (from httpcore==1.*->httpx<0.28.0,>=0.27.0->langchain_google_vertexai)\n",
            "  Downloading h11-0.14.0-py3-none-any.whl.metadata (8.2 kB)\n",
            "Requirement already satisfied: PyYAML>=5.3 in /usr/local/lib/python3.10/dist-packages (from langchain-community<0.3.0,>=0.2.1->langchain_google_community) (6.0.2)\n",
            "Requirement already satisfied: SQLAlchemy<3,>=1.4 in /usr/local/lib/python3.10/dist-packages (from langchain-community<0.3.0,>=0.2.1->langchain_google_community) (2.0.32)\n",
            "Requirement already satisfied: aiohttp<4.0.0,>=3.8.3 in /usr/local/lib/python3.10/dist-packages (from langchain-community<0.3.0,>=0.2.1->langchain_google_community) (3.10.5)\n",
            "Collecting dataclasses-json<0.7,>=0.5.7 (from langchain-community<0.3.0,>=0.2.1->langchain_google_community)\n",
            "  Downloading dataclasses_json-0.6.7-py3-none-any.whl.metadata (25 kB)\n",
            "Collecting langchain<0.3.0,>=0.2.13 (from langchain-community<0.3.0,>=0.2.1->langchain_google_community)\n",
            "  Downloading langchain-0.2.14-py3-none-any.whl.metadata (7.1 kB)\n",
            "Collecting langsmith<0.2.0,>=0.1.0 (from langchain-community<0.3.0,>=0.2.1->langchain_google_community)\n",
            "  Downloading langsmith-0.1.104-py3-none-any.whl.metadata (13 kB)\n",
            "Requirement already satisfied: numpy<2,>=1 in /usr/local/lib/python3.10/dist-packages (from langchain-community<0.3.0,>=0.2.1->langchain_google_community) (1.26.4)\n",
            "Collecting jsonpatch<2.0,>=1.33 (from langchain-core<0.3,>=0.2.33->langchain_google_vertexai)\n",
            "  Downloading jsonpatch-1.33-py2.py3-none-any.whl.metadata (3.0 kB)\n",
            "Requirement already satisfied: aiohappyeyeballs>=2.3.0 in /usr/local/lib/python3.10/dist-packages (from aiohttp<4.0.0,>=3.8.3->langchain-community<0.3.0,>=0.2.1->langchain_google_community) (2.4.0)\n",
            "Requirement already satisfied: aiosignal>=1.1.2 in /usr/local/lib/python3.10/dist-packages (from aiohttp<4.0.0,>=3.8.3->langchain-community<0.3.0,>=0.2.1->langchain_google_community) (1.3.1)\n",
            "Requirement already satisfied: attrs>=17.3.0 in /usr/local/lib/python3.10/dist-packages (from aiohttp<4.0.0,>=3.8.3->langchain-community<0.3.0,>=0.2.1->langchain_google_community) (24.2.0)\n",
            "Requirement already satisfied: frozenlist>=1.1.1 in /usr/local/lib/python3.10/dist-packages (from aiohttp<4.0.0,>=3.8.3->langchain-community<0.3.0,>=0.2.1->langchain_google_community) (1.4.1)\n",
            "Requirement already satisfied: multidict<7.0,>=4.5 in /usr/local/lib/python3.10/dist-packages (from aiohttp<4.0.0,>=3.8.3->langchain-community<0.3.0,>=0.2.1->langchain_google_community) (6.0.5)\n",
            "Requirement already satisfied: yarl<2.0,>=1.0 in /usr/local/lib/python3.10/dist-packages (from aiohttp<4.0.0,>=3.8.3->langchain-community<0.3.0,>=0.2.1->langchain_google_community) (1.9.4)\n",
            "Requirement already satisfied: async-timeout<5.0,>=4.0 in /usr/local/lib/python3.10/dist-packages (from aiohttp<4.0.0,>=3.8.3->langchain-community<0.3.0,>=0.2.1->langchain_google_community) (4.0.3)\n",
            "Collecting marshmallow<4.0.0,>=3.18.0 (from dataclasses-json<0.7,>=0.5.7->langchain-community<0.3.0,>=0.2.1->langchain_google_community)\n",
            "  Downloading marshmallow-3.22.0-py3-none-any.whl.metadata (7.2 kB)\n",
            "Collecting typing-inspect<1,>=0.4.0 (from dataclasses-json<0.7,>=0.5.7->langchain-community<0.3.0,>=0.2.1->langchain_google_community)\n",
            "  Downloading typing_inspect-0.9.0-py3-none-any.whl.metadata (1.5 kB)\n",
            "Collecting jsonpointer>=1.9 (from jsonpatch<2.0,>=1.33->langchain-core<0.3,>=0.2.33->langchain_google_vertexai)\n",
            "  Downloading jsonpointer-3.0.0-py2.py3-none-any.whl.metadata (2.3 kB)\n",
            "Collecting langchain-text-splitters<0.3.0,>=0.2.0 (from langchain<0.3.0,>=0.2.13->langchain-community<0.3.0,>=0.2.1->langchain_google_community)\n",
            "  Downloading langchain_text_splitters-0.2.2-py3-none-any.whl.metadata (2.1 kB)\n",
            "Collecting orjson<4.0.0,>=3.9.14 (from langsmith<0.2.0,>=0.1.0->langchain-community<0.3.0,>=0.2.1->langchain_google_community)\n",
            "  Downloading orjson-3.10.7-cp310-cp310-manylinux_2_17_x86_64.manylinux2014_x86_64.whl.metadata (50 kB)\n",
            "\u001b[2K     \u001b[90m━━━━━━━━━━━━━━━━━━━━━━━━━━━━━━━━━━━━━━━━\u001b[0m \u001b[32m50.4/50.4 kB\u001b[0m \u001b[31m3.3 MB/s\u001b[0m eta \u001b[36m0:00:00\u001b[0m\n",
            "\u001b[?25hRequirement already satisfied: pyasn1<0.7.0,>=0.4.6 in /usr/local/lib/python3.10/dist-packages (from pyasn1-modules>=0.2.1->google-auth<3.0.0dev,>=2.14.1->google-cloud-aiplatform) (0.6.0)\n",
            "Requirement already satisfied: six>=1.5 in /usr/local/lib/python3.10/dist-packages (from python-dateutil<3.0dev,>=2.7.2->google-cloud-bigquery!=3.20.0,<4.0.0dev,>=1.15.0->google-cloud-aiplatform) (1.16.0)\n",
            "Requirement already satisfied: charset-normalizer<4,>=2 in /usr/local/lib/python3.10/dist-packages (from requests<3.0.0.dev0,>=2.18.0->google-api-core!=2.0.*,!=2.1.*,!=2.2.*,!=2.3.*,!=2.4.*,!=2.5.*,!=2.6.*,!=2.7.*,<3.0.0dev,>=1.34.1->google-api-core[grpc]!=2.0.*,!=2.1.*,!=2.2.*,!=2.3.*,!=2.4.*,!=2.5.*,!=2.6.*,!=2.7.*,<3.0.0dev,>=1.34.1->google-cloud-aiplatform) (3.3.2)\n",
            "Requirement already satisfied: urllib3<3,>=1.21.1 in /usr/local/lib/python3.10/dist-packages (from requests<3.0.0.dev0,>=2.18.0->google-api-core!=2.0.*,!=2.1.*,!=2.2.*,!=2.3.*,!=2.4.*,!=2.5.*,!=2.6.*,!=2.7.*,<3.0.0dev,>=1.34.1->google-api-core[grpc]!=2.0.*,!=2.1.*,!=2.2.*,!=2.3.*,!=2.4.*,!=2.5.*,!=2.6.*,!=2.7.*,<3.0.0dev,>=1.34.1->google-cloud-aiplatform) (2.0.7)\n",
            "Requirement already satisfied: greenlet!=0.4.17 in /usr/local/lib/python3.10/dist-packages (from SQLAlchemy<3,>=1.4->langchain-community<0.3.0,>=0.2.1->langchain_google_community) (3.0.3)\n",
            "Requirement already satisfied: exceptiongroup in /usr/local/lib/python3.10/dist-packages (from anyio->httpx<0.28.0,>=0.27.0->langchain_google_vertexai) (1.2.2)\n",
            "Collecting mypy-extensions>=0.3.0 (from typing-inspect<1,>=0.4.0->dataclasses-json<0.7,>=0.5.7->langchain-community<0.3.0,>=0.2.1->langchain_google_community)\n",
            "  Downloading mypy_extensions-1.0.0-py3-none-any.whl.metadata (1.1 kB)\n",
            "Downloading cloudpickle-3.0.0-py3-none-any.whl (20 kB)\n",
            "Downloading pydantic-2.7.4-py3-none-any.whl (409 kB)\n",
            "\u001b[2K   \u001b[90m━━━━━━━━━━━━━━━━━━━━━━━━━━━━━━━━━━━━━━━━\u001b[0m \u001b[32m409.0/409.0 kB\u001b[0m \u001b[31m24.6 MB/s\u001b[0m eta \u001b[36m0:00:00\u001b[0m\n",
            "\u001b[?25hDownloading pydantic_core-2.18.4-cp310-cp310-manylinux_2_17_x86_64.manylinux2014_x86_64.whl (2.0 MB)\n",
            "\u001b[2K   \u001b[90m━━━━━━━━━━━━━━━━━━━━━━━━━━━━━━━━━━━━━━━━\u001b[0m \u001b[32m2.0/2.0 MB\u001b[0m \u001b[31m69.4 MB/s\u001b[0m eta \u001b[36m0:00:00\u001b[0m\n",
            "\u001b[?25hDownloading langchain_google_vertexai-1.0.10-py3-none-any.whl (86 kB)\n",
            "\u001b[2K   \u001b[90m━━━━━━━━━━━━━━━━━━━━━━━━━━━━━━━━━━━━━━━━\u001b[0m \u001b[32m86.0/86.0 kB\u001b[0m \u001b[31m7.6 MB/s\u001b[0m eta \u001b[36m0:00:00\u001b[0m\n",
            "\u001b[?25hDownloading langchain_google_community-1.0.8-py3-none-any.whl (75 kB)\n",
            "\u001b[2K   \u001b[90m━━━━━━━━━━━━━━━━━━━━━━━━━━━━━━━━━━━━━━━━\u001b[0m \u001b[32m75.6/75.6 kB\u001b[0m \u001b[31m6.3 MB/s\u001b[0m eta \u001b[36m0:00:00\u001b[0m\n",
            "\u001b[?25hDownloading google_cloud_discoveryengine-0.12.1-py3-none-any.whl (2.4 MB)\n",
            "\u001b[2K   \u001b[90m━━━━━━━━━━━━━━━━━━━━━━━━━━━━━━━━━━━━━━━━\u001b[0m \u001b[32m2.4/2.4 MB\u001b[0m \u001b[31m62.5 MB/s\u001b[0m eta \u001b[36m0:00:00\u001b[0m\n",
            "\u001b[?25hDownloading google_api_python_client-2.142.0-py2.py3-none-any.whl (12.2 MB)\n",
            "\u001b[2K   \u001b[90m━━━━━━━━━━━━━━━━━━━━━━━━━━━━━━━━━━━━━━━━\u001b[0m \u001b[32m12.2/12.2 MB\u001b[0m \u001b[31m101.9 MB/s\u001b[0m eta \u001b[36m0:00:00\u001b[0m\n",
            "\u001b[?25hDownloading google_cloud_storage-2.18.2-py2.py3-none-any.whl (130 kB)\n",
            "\u001b[2K   \u001b[90m━━━━━━━━━━━━━━━━━━━━━━━━━━━━━━━━━━━━━━━━\u001b[0m \u001b[32m130.5/130.5 kB\u001b[0m \u001b[31m11.5 MB/s\u001b[0m eta \u001b[36m0:00:00\u001b[0m\n",
            "\u001b[?25hDownloading httpx-0.27.0-py3-none-any.whl (75 kB)\n",
            "\u001b[2K   \u001b[90m━━━━━━━━━━━━━━━━━━━━━━━━━━━━━━━━━━━━━━━━\u001b[0m \u001b[32m75.6/75.6 kB\u001b[0m \u001b[31m6.5 MB/s\u001b[0m eta \u001b[36m0:00:00\u001b[0m\n",
            "\u001b[?25hDownloading httpcore-1.0.5-py3-none-any.whl (77 kB)\n",
            "\u001b[2K   \u001b[90m━━━━━━━━━━━━━━━━━━━━━━━━━━━━━━━━━━━━━━━━\u001b[0m \u001b[32m77.9/77.9 kB\u001b[0m \u001b[31m6.2 MB/s\u001b[0m eta \u001b[36m0:00:00\u001b[0m\n",
            "\u001b[?25hDownloading httpx_sse-0.4.0-py3-none-any.whl (7.8 kB)\n",
            "Downloading langchain_community-0.2.12-py3-none-any.whl (2.3 MB)\n",
            "\u001b[2K   \u001b[90m━━━━━━━━━━━━━━━━━━━━━━━━━━━━━━━━━━━━━━━━\u001b[0m \u001b[32m2.3/2.3 MB\u001b[0m \u001b[31m76.3 MB/s\u001b[0m eta \u001b[36m0:00:00\u001b[0m\n",
            "\u001b[?25hDownloading langchain_core-0.2.35-py3-none-any.whl (394 kB)\n",
            "\u001b[2K   \u001b[90m━━━━━━━━━━━━━━━━━━━━━━━━━━━━━━━━━━━━━━━━\u001b[0m \u001b[32m394.9/394.9 kB\u001b[0m \u001b[31m27.2 MB/s\u001b[0m eta \u001b[36m0:00:00\u001b[0m\n",
            "\u001b[?25hDownloading tenacity-8.3.0-py3-none-any.whl (25 kB)\n",
            "Downloading dataclasses_json-0.6.7-py3-none-any.whl (28 kB)\n",
            "Downloading jsonpatch-1.33-py2.py3-none-any.whl (12 kB)\n",
            "Downloading langchain-0.2.14-py3-none-any.whl (997 kB)\n",
            "\u001b[2K   \u001b[90m━━━━━━━━━━━━━━━━━━━━━━━━━━━━━━━━━━━━━━━━\u001b[0m \u001b[32m997.8/997.8 kB\u001b[0m \u001b[31m50.8 MB/s\u001b[0m eta \u001b[36m0:00:00\u001b[0m\n",
            "\u001b[?25hDownloading langsmith-0.1.104-py3-none-any.whl (149 kB)\n",
            "\u001b[2K   \u001b[90m━━━━━━━━━━━━━━━━━━━━━━━━━━━━━━━━━━━━━━━━\u001b[0m \u001b[32m149.1/149.1 kB\u001b[0m \u001b[31m12.8 MB/s\u001b[0m eta \u001b[36m0:00:00\u001b[0m\n",
            "\u001b[?25hDownloading h11-0.14.0-py3-none-any.whl (58 kB)\n",
            "\u001b[2K   \u001b[90m━━━━━━━━━━━━━━━━━━━━━━━━━━━━━━━━━━━━━━━━\u001b[0m \u001b[32m58.3/58.3 kB\u001b[0m \u001b[31m4.8 MB/s\u001b[0m eta \u001b[36m0:00:00\u001b[0m\n",
            "\u001b[?25hDownloading jsonpointer-3.0.0-py2.py3-none-any.whl (7.6 kB)\n",
            "Downloading langchain_text_splitters-0.2.2-py3-none-any.whl (25 kB)\n",
            "Downloading marshmallow-3.22.0-py3-none-any.whl (49 kB)\n",
            "\u001b[2K   \u001b[90m━━━━━━━━━━━━━━━━━━━━━━━━━━━━━━━━━━━━━━━━\u001b[0m \u001b[32m49.3/49.3 kB\u001b[0m \u001b[31m3.5 MB/s\u001b[0m eta \u001b[36m0:00:00\u001b[0m\n",
            "\u001b[?25hDownloading orjson-3.10.7-cp310-cp310-manylinux_2_17_x86_64.manylinux2014_x86_64.whl (141 kB)\n",
            "\u001b[2K   \u001b[90m━━━━━━━━━━━━━━━━━━━━━━━━━━━━━━━━━━━━━━━━\u001b[0m \u001b[32m141.9/141.9 kB\u001b[0m \u001b[31m12.6 MB/s\u001b[0m eta \u001b[36m0:00:00\u001b[0m\n",
            "\u001b[?25hDownloading typing_inspect-0.9.0-py3-none-any.whl (8.8 kB)\n",
            "Downloading mypy_extensions-1.0.0-py3-none-any.whl (4.7 kB)\n",
            "Installing collected packages: tenacity, pydantic-core, orjson, mypy-extensions, marshmallow, jsonpointer, httpx-sse, h11, cloudpickle, typing-inspect, pydantic, jsonpatch, httpcore, httpx, dataclasses-json, langsmith, google-api-python-client, langchain-core, google-cloud-storage, google-cloud-discoveryengine, langchain-text-splitters, langchain_google_vertexai, langchain, langchain-community, langchain_google_community\n",
            "  Attempting uninstall: tenacity\n",
            "    Found existing installation: tenacity 9.0.0\n",
            "    Uninstalling tenacity-9.0.0:\n",
            "      Successfully uninstalled tenacity-9.0.0\n",
            "  Attempting uninstall: pydantic-core\n",
            "    Found existing installation: pydantic_core 2.20.1\n",
            "    Uninstalling pydantic_core-2.20.1:\n",
            "      Successfully uninstalled pydantic_core-2.20.1\n",
            "  Attempting uninstall: cloudpickle\n",
            "    Found existing installation: cloudpickle 2.2.1\n",
            "    Uninstalling cloudpickle-2.2.1:\n",
            "      Successfully uninstalled cloudpickle-2.2.1\n",
            "  Attempting uninstall: pydantic\n",
            "    Found existing installation: pydantic 2.8.2\n",
            "    Uninstalling pydantic-2.8.2:\n",
            "      Successfully uninstalled pydantic-2.8.2\n",
            "  Attempting uninstall: google-api-python-client\n",
            "    Found existing installation: google-api-python-client 2.137.0\n",
            "    Uninstalling google-api-python-client-2.137.0:\n",
            "      Successfully uninstalled google-api-python-client-2.137.0\n",
            "  Attempting uninstall: google-cloud-storage\n",
            "    Found existing installation: google-cloud-storage 2.8.0\n",
            "    Uninstalling google-cloud-storage-2.8.0:\n",
            "      Successfully uninstalled google-cloud-storage-2.8.0\n",
            "Successfully installed cloudpickle-3.0.0 dataclasses-json-0.6.7 google-api-python-client-2.142.0 google-cloud-discoveryengine-0.12.1 google-cloud-storage-2.18.2 h11-0.14.0 httpcore-1.0.5 httpx-0.27.0 httpx-sse-0.4.0 jsonpatch-1.33 jsonpointer-3.0.0 langchain-0.2.14 langchain-community-0.2.12 langchain-core-0.2.35 langchain-text-splitters-0.2.2 langchain_google_community-1.0.8 langchain_google_vertexai-1.0.10 langsmith-0.1.104 marshmallow-3.22.0 mypy-extensions-1.0.0 orjson-3.10.7 pydantic-2.7.4 pydantic-core-2.18.4 tenacity-8.3.0 typing-inspect-0.9.0\n"
          ]
        },
        {
          "output_type": "display_data",
          "data": {
            "application/vnd.colab-display-data+json": {
              "pip_warning": {
                "packages": [
                  "google"
                ]
              },
              "id": "8eaa2487b3b44add8ef2d4b6a27d32c5"
            }
          },
          "metadata": {}
        }
      ],
      "source": [
        "!pip install --upgrade google-cloud-aiplatform \\\n",
        "    langchain_google_vertexai \\\n",
        "    langchain_google_community \\\n",
        "    cloudpickle==3.0.0 \\\n",
        "    pydantic==2.7.4 \\\n",
        "    google-cloud-discoveryengine \\\n",
        "    google-api-python-client"
      ]
    },
    {
      "cell_type": "markdown",
      "metadata": {
        "id": "R5Xep4W9lq-Z"
      },
      "source": [
        "### Restart current runtime\n",
        "\n",
        "To use the newly installed packages in this Jupyter runtime, you must restart the runtime. You can do this by running the cell below, which will restart the current kernel."
      ]
    },
    {
      "cell_type": "code",
      "execution_count": null,
      "metadata": {
        "colab": {
          "base_uri": "https://localhost:8080/"
        },
        "id": "XRvKdaPDTznN",
        "outputId": "ccb352cd-0910-470a-f64f-78cc5dc9d25a"
      },
      "outputs": [
        {
          "output_type": "execute_result",
          "data": {
            "text/plain": [
              "{'status': 'ok', 'restart': True}"
            ]
          },
          "metadata": {},
          "execution_count": 29
        }
      ],
      "source": [
        "# Restart kernel after installs so that your environment can access the new packages\n",
        "import IPython\n",
        "\n",
        "app = IPython.Application.instance()\n",
        "app.kernel.do_shutdown(True)"
      ]
    },
    {
      "cell_type": "markdown",
      "metadata": {
        "id": "SbmM4z7FOBpM"
      },
      "source": [
        "<div class=\"alert alert-block alert-warning\">\n",
        "<b>⚠️ The kernel is going to restart. Please wait until it is finished before continuing to the next step. ⚠️</b>\n",
        "</div>\n",
        "\n"
      ]
    },
    {
      "cell_type": "markdown",
      "source": [
        "Optional: Check version of google-cloud-aiplatform"
      ],
      "metadata": {
        "id": "KiBJAL2FxVrV"
      }
    },
    {
      "cell_type": "code",
      "execution_count": 1,
      "metadata": {
        "id": "HMis863b31G6",
        "colab": {
          "base_uri": "https://localhost:8080/"
        },
        "outputId": "63aee0de-c77f-4c58-8a93-a5aaf3622c0f"
      },
      "outputs": [
        {
          "output_type": "stream",
          "name": "stdout",
          "text": [
            "Name: google-cloud-aiplatform\n",
            "Version: 1.63.0\n",
            "Summary: Vertex AI API client library\n",
            "Home-page: https://github.com/googleapis/python-aiplatform\n",
            "Author: Google LLC\n",
            "Author-email: googleapis-packages@google.com\n",
            "License: Apache 2.0\n",
            "Location: /usr/local/lib/python3.10/dist-packages\n",
            "Requires: docstring-parser, google-api-core, google-auth, google-cloud-bigquery, google-cloud-resource-manager, google-cloud-storage, packaging, proto-plus, protobuf, pydantic, shapely\n",
            "Required-by: langchain-google-vertexai\n"
          ]
        }
      ],
      "source": [
        "!pip show google-cloud-aiplatform"
      ]
    },
    {
      "cell_type": "markdown",
      "metadata": {
        "id": "dmWOrTJ3gx13"
      },
      "source": [
        "### Authenticate your notebook environment (Colab only)\n",
        "\n",
        "If you are running this notebook on Google Colab, run the following cell to authenticate your environment. This step is not required if you are using [Vertex AI Workbench](https://cloud.google.com/vertex-ai-workbench)."
      ]
    },
    {
      "cell_type": "code",
      "execution_count": 2,
      "metadata": {
        "id": "NyKGtVQjgx13"
      },
      "outputs": [],
      "source": [
        "import sys\n",
        "\n",
        "if \"google.colab\" in sys.modules:\n",
        "    from google.colab import auth\n",
        "\n",
        "    auth.authenticate_user()"
      ]
    },
    {
      "cell_type": "markdown",
      "metadata": {
        "id": "DF4l8DTdWgPY"
      },
      "source": [
        "### Set Google Cloud project information and initialize Vertex AI SDK\n",
        "\n",
        "To get started using Vertex AI, you must have an existing Google Cloud project and [enable the Vertex AI API](https://console.cloud.google.com/flows/enableapi?apiid=aiplatform.googleapis.com).\n",
        "\n",
        "Learn more about [setting up a project and a development environment](https://cloud.google.com/vertex-ai/docs/start/cloud-environment)."
      ]
    },
    {
      "cell_type": "code",
      "execution_count": 3,
      "metadata": {
        "id": "Nqwi-5ufWp_B"
      },
      "outputs": [],
      "source": [
        "PROJECT_ID = \"ololand-mvp\"  # @param {type:\"string\"}\n",
        "LOCATION = \"us-central1\"  # @param {type:\"string\"}\n",
        "STAGING_BUCKET = \"gs://klodzko\"  # @param {type:\"string\"}\n",
        "\n",
        "import vertexai\n",
        "from vertexai.preview import reasoning_engines\n",
        "\n",
        "vertexai.init(project=PROJECT_ID, location=LOCATION, staging_bucket=STAGING_BUCKET)"
      ]
    },
    {
      "cell_type": "markdown",
      "metadata": {
        "id": "jXHfaVS66_01"
      },
      "source": [
        "### Import libraries"
      ]
    },
    {
      "cell_type": "code",
      "source": [
        "from vertexai.generative_models import (\n",
        "    GenerativeModel,\n",
        "    GenerationResponse,\n",
        "    Tool,\n",
        "    grounding,\n",
        ")\n",
        "from vertexai.preview.generative_models import grounding as preview_grounding\n",
        "from IPython.display import display, Markdown\n",
        "\n",
        "from googleapiclient import discovery\n",
        "from langchain.agents.format_scratchpad.tools import format_to_tool_messages\n",
        "from langchain_core import prompts\n",
        "from langchain.memory import ChatMessageHistory\n",
        "from vertexai.preview import reasoning_engines\n",
        "\n",
        "import base64\n",
        "import vertexai\n",
        "from vertexai.generative_models import GenerativeModel, Part, Tool\n",
        "import vertexai.preview.generative_models as generative_models"
      ],
      "metadata": {
        "id": "1qd1rhXdt_8u"
      },
      "execution_count": 4,
      "outputs": []
    },
    {
      "cell_type": "markdown",
      "metadata": {
        "id": "aS-Dcf_dOg0Q"
      },
      "source": [
        "### Define generative model"
      ]
    },
    {
      "cell_type": "markdown",
      "metadata": {
        "id": "sww7H8gnOg0Q"
      },
      "source": [
        "The first component of your agent involves the version of the generative model you want to use in your agent. Here you'll use the Gemini 1.5 Pro model:"
      ]
    },
    {
      "cell_type": "code",
      "execution_count": 5,
      "metadata": {
        "id": "LN2hS9AIOg0Q"
      },
      "outputs": [],
      "source": [
        "model = GenerativeModel(\"gemini-1.5-pro\")"
      ]
    },
    {
      "cell_type": "markdown",
      "source": [
        "### Formatting function"
      ],
      "metadata": {
        "id": "-zBk0UNE9kEr"
      }
    },
    {
      "cell_type": "code",
      "execution_count": 6,
      "metadata": {
        "id": "6y8jgrKJPMUC"
      },
      "outputs": [],
      "source": [
        "def print_grounding_response(response: GenerationResponse):\n",
        "    \"\"\"Prints Gemini response with grounding citations.\"\"\"\n",
        "    grounding_metadata = response.candidates[0].grounding_metadata\n",
        "\n",
        "    # Citation indices are in byte units\n",
        "    ENCODING = \"utf-8\"\n",
        "    text_bytes = response.text.encode(ENCODING)\n",
        "\n",
        "    prev_index = 0\n",
        "    markdown_text = \"\"\n",
        "\n",
        "    sources: dict[str, str] = {}\n",
        "    footnote = 1\n",
        "    print(grounding_metadata)\n",
        "    for attribution in grounding_metadata.grounding_attributions:\n",
        "        context = attribution.web or attribution.retrieved_context\n",
        "        if not context:\n",
        "            print(f\"Skipping Grounding Attribution {attribution}\")\n",
        "            continue\n",
        "\n",
        "        title = context.title\n",
        "        uri = context.uri\n",
        "        end_index = int(attribution.segment.end_index)\n",
        "\n",
        "        if uri not in sources:\n",
        "            sources[uri] = {\"title\": title, \"footnote\": footnote}\n",
        "            footnote += 1\n",
        "\n",
        "        text_segment = text_bytes[prev_index:end_index].decode(ENCODING)\n",
        "        markdown_text += f\"{text_segment} [[{sources[uri]['footnote']}]]({uri})\"\n",
        "        prev_index = end_index\n",
        "\n",
        "    if prev_index < len(text_bytes):\n",
        "        markdown_text += str(text_bytes[prev_index:], encoding=ENCODING)\n",
        "\n",
        "    markdown_text += \"\\n## Grounding Sources\\n\"\n",
        "\n",
        "    if grounding_metadata.web_search_queries:\n",
        "        markdown_text += (\n",
        "            f\"\\n**Web Search Queries:** {grounding_metadata.web_search_queries}\\n\"\n",
        "        )\n",
        "    elif grounding_metadata.retrieval_queries:\n",
        "        markdown_text += (\n",
        "            f\"\\n**Retrieval Queries:** {grounding_metadata.retrieval_queries}\\n\"\n",
        "        )\n",
        "\n",
        "    for uri, source in sources.items():\n",
        "        markdown_text += f\"{source['footnote']}. [{source['title']}]({uri})\\n\"\n",
        "\n",
        "    display(Markdown(markdown_text))"
      ]
    },
    {
      "cell_type": "markdown",
      "source": [
        "# Create Google Search"
      ],
      "metadata": {
        "id": "-WuQd2nvtpRL"
      }
    },
    {
      "cell_type": "code",
      "execution_count": 7,
      "metadata": {
        "id": "hLkZXDw6PMUC"
      },
      "outputs": [],
      "source": [
        "PROMPT = \"You are an equity analyst. Your goal is to perform equity valuation for Adobe. Base your research on recent financial reports and business news. Conduct Google search for relevant information. Follow step by step instructions to come up with a strategy for Adobe: 1. Collect current financial information about Adobe including its most recent stock price, financial statements, press releases, and analyst reports. 2: Display Adobe current stock price and the date. 3: Forecast financial statements for the next 5 years. 4: Calculate Adobe intrinsic value using Discounted Cash Flows and Terminal value. Explain calculations step by step and present numbers in a table.\""
      ]
    },
    {
      "cell_type": "markdown",
      "source": [
        "### Define Python function as a tool for Google Search\n",
        "\n"
      ],
      "metadata": {
        "id": "F69a-BW_qoOQ"
      }
    },
    {
      "cell_type": "code",
      "source": [
        "def search_google(query: str) -> str:\n",
        "    \"\"\"Searches Google for the given query and returns the top result.\"\"\"\n",
        "\n",
        "    tools = [\n",
        "      Tool.from_google_search_retrieval(\n",
        "          google_search_retrieval=generative_models.grounding.GoogleSearchRetrieval()\n",
        "      ),\n",
        "  ]\n",
        "\n",
        "    # Assuming 'model' is defined elsewhere in your code\n",
        "    # Pass the prompt string instead of the 'str' class\n",
        "    result = model.generate_content([query], tools=tools)\n",
        "    return result.text"
      ],
      "metadata": {
        "id": "OQElCW_43rp8"
      },
      "execution_count": 8,
      "outputs": []
    },
    {
      "cell_type": "markdown",
      "source": [
        "Test Google Search function with sample input to ensure that it's working as expected:"
      ],
      "metadata": {
        "id": "4anrbsvNqY65"
      }
    },
    {
      "cell_type": "code",
      "source": [
        "display(Markdown(search_google(PROMPT)))"
      ],
      "metadata": {
        "colab": {
          "base_uri": "https://localhost:8080/",
          "height": 1000
        },
        "id": "iD3bkLH74ET4",
        "outputId": "d1a36cd5-c7af-4b14-e1c3-76e1cc0544c4"
      },
      "execution_count": 9,
      "outputs": [
        {
          "output_type": "display_data",
          "data": {
            "text/plain": [
              "<IPython.core.display.Markdown object>"
            ],
            "text/markdown": "## Adobe Inc. (ADBE) Valuation - August 27, 2024\n\nThis analysis provides a valuation for Adobe Inc. (ADBE) as of August 27, 2024. \n\n**2. Current Stock Price and Date:**\n\n* Adobe Inc. (ADBE) Stock Price (as of August 27, 2024): **$558.98**\n\n**3. Financial Forecast (Next 5 Years):**\n\nForecasting financial statements requires a deep dive into historical data, industry trends, and company-specific drivers. This analysis would typically involve:\n\n* **Revenue Projections:** Analyzing historical growth rates, market share trends, new product launches, and overall industry outlook to project future revenue.\n* **Expense Ratios:** Examining historical trends in Cost of Goods Sold (COGS), Selling, General & Administrative (SG&A) expenses as a percentage of revenue to forecast future profitability.\n* **Capital Structure:** Considering potential changes in debt issuance, share buybacks, and dividend policies. \n\nDue to the complexity and time required for a detailed forecast, I will present a simplified example to illustrate the DCF methodology. \n\n**Assumptions:**\n\n* **Revenue Growth:** Assume an average annual revenue growth rate of 8% for the next 5 years. This is a simplified assumption and should be adjusted based on thorough research.\n* **Operating Margin:**  Assume a stable operating margin of 35% over the forecast period.\n* **Tax Rate:** Assume a constant tax rate of 21%.\n\n**Simplified Income Statement Forecast (in millions USD):**\n\n| Year | 2024  | 2025   | 2026   | 2027   | 2028   |\n|------|-------|--------|--------|--------|--------|\n| Revenue | 21,450 | 23,166 | 25,021 | 27,026 | 29,188 |\n| Operating Income | 7,508 | 8,108 | 8,757 | 9,459 | 10,216 |\n| Net Income | 6,101 | 6,568 | 7,082 | 7,647 | 8,269 |\n\n\n**4. Intrinsic Value Calculation (DCF & Terminal Value):**\n\n**Step 1: Calculate Free Cash Flow (FCF)**\n\nFree Cash Flow (FCF) is the cash flow available to the company after all operating expenses and capital expenditures.\n\n* **Simplified FCF Calculation:** For simplicity, we assume Free Cash Flow is approximately equal to Net Income. In a detailed analysis, we would adjust for depreciation, amortization, capital expenditures, and changes in working capital. \n\n**Step 2: Determine Discount Rate**\n\nThe discount rate reflects the riskiness of the investment. We will use the Weighted Average Cost of Capital (WACC), which considers both the cost of equity and the cost of debt.\n\n* **Assumptions:**\n    * Cost of Equity: 10% (Assumed - requires further analysis using CAPM or similar)\n    * Cost of Debt: 4% (Assumed - requires checking Adobe's debt profile)\n    * Debt-to-Equity Ratio: 0.5 (Assumed - requires checking Adobe's balance sheet)\n\n* **WACC Calculation:**\n    * WACC = (Cost of Equity * Equity/ (Debt + Equity)) + (Cost of Debt * Debt / (Debt + Equity)) * (1 - Tax Rate) \n    * WACC = (0.10 * 0.67) + (0.04 * 0.33) * (1 - 0.21) \n    * WACC ≈ 7.7%\n\n**Step 3: Calculate Present Value of Future FCFs**\n\nWe discount the future FCFs back to their present value using the calculated WACC.\n\n| Year | FCF (Millions) | Discount Factor (7.7%) | Present Value (Millions) |\n|------|----------------|--------------------------|-------------------------|\n| 2025   | 6,568        | 0.93                   | 6,124                     |\n| 2026   | 7,082        | 0.86                   | 6,107                     |\n| 2027   | 7,647        | 0.80                   | 6,117                     |\n| 2028   | 8,269        | 0.74                   | 6,115                     |\n| 2029   | 8,951        | 0.68                   | 6,097                     |\n\n**Step 4: Calculate Terminal Value**\n\nTerminal value represents the value of the company beyond the explicit forecast period.\n\n* **Perpetuity Growth Model:** We'll use a conservative perpetuity growth rate of 2.5% (slightly below long-term economic growth).\n\n* **Terminal Value Calculation:**\n    * Terminal Value = Year 5 FCF * (1 + Perpetuity Growth Rate) / (Discount Rate - Perpetuity Growth Rate)\n    * Terminal Value = 8,951 * (1 + 0.025) / (0.077 - 0.025)\n    * Terminal Value ≈ 174,198 million\n\n* **Present Value of Terminal Value:**\n    * Present Value = Terminal Value / (1 + Discount Rate) ^ 5\n    * Present Value = 174,198 / (1 + 0.077)^5 \n    * Present Value ≈ 119,396 million\n\n**Step 5: Calculate Enterprise Value (EV)**\n\nEnterprise Value represents the total value of the business.\n\n* **EV = Present Value of FCFs + Present Value of Terminal Value**\n* EV = 30,560 + 119,396 \n* EV ≈ 149,956 million\n\n**Step 6: Calculate Equity Value**\n\nEquity Value is the value attributable to shareholders.\n\n* **Equity Value = EV - Debt + Cash**\n* Assuming Adobe has a net debt position (Debt - Cash) of $10 billion (this value needs to be taken from Adobe's recent financial reports).\n* Equity Value = 149,956 - 10,000 \n* Equity Value ≈ 139,956 million\n\n**Step 7: Calculate Intrinsic Value per Share**\n\n* **Intrinsic Value per Share = Equity Value / Number of Shares Outstanding**\n* Assuming Adobe has 420 million shares outstanding (this value needs to be taken from Adobe's recent financial reports).\n* Intrinsic Value per Share = 139,956 / 420 \n* Intrinsic Value per Share ≈ **$333.23**\n\n**Conclusion:**\n\nBased on our simplified DCF model, the calculated intrinsic value per share of Adobe Inc. (ADBE) is approximately **$333.23**. Compared to the current market price of $558.98, this suggests that **Adobe may be overvalued** by the market. \n\n**Disclaimer:** \nIt's important to emphasize that this is a simplified DCF model for illustrative purposes. The assumptions made, especially regarding revenue growth, operating margin, and discount rate, can significantly impact the final valuation. \n\nA comprehensive valuation would involve:\n* More detailed revenue projections based on market analysis and company-specific factors.\n* In-depth expense analysis, including COGS, SG&A, and R&D trends.\n* Careful consideration of working capital changes.\n* A robust WACC calculation incorporating current market data and company-specific risk factors.\n* Sensitivity analysis to understand the impact of changes in key assumptions. \n\nThis simplified analysis serves as a starting point for further research and should not be considered financial advice.\n"
          },
          "metadata": {}
        }
      ]
    },
    {
      "cell_type": "markdown",
      "metadata": {
        "id": "rXMLypUyOg0Q"
      },
      "source": [
        "### Create a data store in Vertex AI Search\n"
      ]
    },
    {
      "cell_type": "code",
      "execution_count": 10,
      "metadata": {
        "id": "xwDArBuaOg0Q"
      },
      "outputs": [],
      "source": [
        "DATA_STORE_ID = \"textbook-datastore_1723819395634\"  # @param {type:\"string\"}\n",
        "LOCATION_ID = \"global\"  # @param {type:\"string\"}"
      ]
    },
    {
      "cell_type": "markdown",
      "metadata": {
        "id": "Z8VrPZ5-Og0Q"
      },
      "source": [
        "### Define Python function as a tool for Vertex AI Vector Search"
      ]
    },
    {
      "cell_type": "code",
      "execution_count": 11,
      "metadata": {
        "id": "5kiIYyLnOg0Q"
      },
      "outputs": [],
      "source": [
        "def search_textbooks(query: str) -> str:\n",
        "    \"\"\"Searches a collection of textbooks for the given query and returns relevant excerpts.\"\"\"\n",
        "    from langchain_google_community import VertexAISearchRetriever\n",
        "\n",
        "    retriever = VertexAISearchRetriever(\n",
        "        project_id=PROJECT_ID,\n",
        "        data_store_id=DATA_STORE_ID,\n",
        "        location_id=LOCATION_ID,\n",
        "        engine_data_type=0,\n",
        "        max_documents=10,\n",
        "    )\n",
        "\n",
        "    result = str(retriever.invoke(query))\n",
        "    return result"
      ]
    },
    {
      "cell_type": "markdown",
      "metadata": {
        "id": "JBCmRNTjOg0Q"
      },
      "source": [
        "Now you can test your search function with sample input to ensure that it's working as expected:"
      ]
    },
    {
      "cell_type": "code",
      "execution_count": 12,
      "metadata": {
        "colab": {
          "base_uri": "https://localhost:8080/",
          "height": 1000
        },
        "collapsed": true,
        "id": "5v7xX71aOg0Q",
        "outputId": "965cab0e-5470-4590-9c5e-357acfd5c3ea"
      },
      "outputs": [
        {
          "output_type": "display_data",
          "data": {
            "text/plain": [
              "<IPython.core.display.Markdown object>"
            ],
            "text/markdown": "[Document(metadata={'id': '7bb85ad3c60c3af99a223c51b8ce7997', 'source': 'gs://mba-textbooks/Operations Strategy 3rd edition.pdf:63'}, page_content='38 chapter 1 • OperatIOns strategy – develOpIng resOurces fOr strategIc Impact\\n\\nMintzberg, H., Ahlstrand, B. and Lampel, J.B. (2008) Strategy Safari: The Complete Guide\\nThrough the Wilds of Strategic Management, Financial Times/Prentice Hall.\\nSkinner, W. (1978) Manufacturing in the Corporate Strategy. Wiley.\\nSlack, N., Chambers, S., Johnston, R., and Betts, A. (2009) Operations and Process\\nManagement: Principles and Practice for Strategic Impact, 2nd edn, Harlow, UK: Financial\\nTimes Prentice Hall.\\n\\nWernerfelt, B. (1984) ‘A resource-based theory of the firm’, Strategic Management Journal,\\nNo. 5, pp. 272–280.'), Document(metadata={'id': '2d195a19bfe9a124adddef53a45d53a2', 'source': 'gs://mba-textbooks/Strategy and the Business Landscape, 3rd ed. - Ghemawat (2010).pdf:21'}, page_content='In all these applications, segmenting diversified corporations into SBUs came\\nto be recognized as an important precursor to analyzing economic performance.46\\nThis step forced “deaveraging” of cost and performance numbers that had previ\\nously been calculated at more aggregated levels. In addition, it was thought that with\\nsuch approaches, “strategic thinking was appropriately pushed ‘down the line’ to\\nmanagers closer to the particular industry and its competitive conditions.”47\\n\\nIn the 1970s, virtually every major consulting firm used some sort of portfolio\\nplanning—either a variant on the two matrices already discussed or its own internally\\ndeveloped program (e.g., Arthur D. Little’s 24-box life-cycle matrix)—to generate\\nstrategy recommendations. Portfolio analyses became especially popular after the oil\\ncrisis of 1973 forced many large corporations to rethink, if not discard, their existing'), Document(metadata={'id': '1012e589c192e3ab0ec3b68ddfb6f00d', 'source': 'gs://mba-textbooks/Equity Valuation.pdf:22'}, page_content=\"Ratio analysis focuses almost exclUSively on a firm's accrual accounting\\nstatements-the income statement and the balance sheet. However, in order to\\nremain solvent, fund new business opportunities, and ultimately make cash\\nflow distributions, a firm also must carefully manage its cash. A firm's cash\\nflows are detailed in its statement of cash flows, and the analysis of this\\ninformation is the topic of Chapter 6. Cash flow analysis is concerned with\\nunderstanding the cash flows from a firm's operating, investing, and financing\\nactivities. A sound business strategy should anticipate the cash flows associated\\nwith each activity and make sure that they articulate. Also, firm value is\\nultimately dependent on the distribution of cash flows to equity holders.\\nUnfortunately, some firms choose to invest surplus cash flows in wasteful ways\\nrather than making timely distributions to equity holders. These and other\\nrelated issues are explained in Chapter 6.\\nForecasting the Future\\nOnce you understand the past, you are ready to forecast the future. The tasks\\ninvolved in this step are summarized in the second box of Figure 1.1. Our goal in\\nthis step is to forecast the future financial statements. Recall from our earlier\\ndiscussion that the financial statements represent the language for converting\\nforecasts of future business activities into forecasts of future cash flows. In\\nChapter 7 we introduce structured forecasting-the systematic way that we go\\nabout developing forecasts. Rather than attempting to directly forecast the\\namount for each line item of the financial statements, we frame the forecasting\\nproblem using the same types of ratios that you studied in Chapter 5. You\\nexpress your forecasts about the firm's operating, investing, and financing\\nactivities by developing forecasts of these ratios, and then derive the implied\"), Document(metadata={'id': 'b3361150f745170d8fe6c38cd7e7abec', 'source': 'gs://mba-textbooks/Textbook_ Strategy and Tactics of Pricing.pdf:244'}, page_content='Chapter 9 • Financial Analysis 223\\nWhere there is inadequate incremental contribution to cover the incremental\\nfi xed costs, as in scenarios 1 through 4, the change in profi t is negative. Sce\\nnario 5 illustrates the breakeven sales change. Scenarios 6 through 9 are all\\nprofi table scenarios, since they result in greater profi t after the price change\\nthan before.\\nThe interrelationships among contribution, incremental fi xed costs, and\\nthe sales change that results from a price change are often easier to compre\\nhend with a graph. Exhibit 9-4 illustrates the relationships among the data in\\nExhibit 9-3.'), Document(metadata={'id': 'a780874d4c1b3808be606cb401c14ce1', 'source': 'gs://mba-textbooks/Macroeconomics 9th Edition -N. Gregory Mankiw.pdf:29'}, page_content='xxviii | Preface\\n\\nPart Six, Topics in Macroeconomic Policy\\nOnce students have solid command of standard macroeconomic models, the\\nbook uses these models as the foundation for discussing some of the key debates\\nover economic policy. Chapter 18 considers the debate over how policymakers\\nshould respond to short-run economic fluctuations. It emphasizes two broad\\nquestions: Should monetary and fiscal policy be active or passive? Should policy\\nbe conducted by rule or by discretion? The chapter presents arguments on both\\nsides of these questions.\\nChapter 19 focuses on the various debates over government debt and budget\\ndeficits. It gives a broad picture about the magnitude of government indebted\\nness, discusses why measuring budget deficits is not always straightforward, recaps\\nthe traditional view of the effects of government debt, presents Ricardian equiva\\nlence as an alternative view, and discusses various other perspectives on govern\\nment debt. As in the previous chapter, students are not handed conclusions but\\nare given the tools to evaluate the alternative viewpoints on their own.\\nChapter 20 discusses the financial system and its linkages to the overall\\neconomy. It begins by examining what the financial system does: financing\\ninvestment, sharing risk, dealing with asymmetric information, and fostering\\neconomic growth. It then discusses the causes of financial crises, their macro\\neconomic impact, and the policies that might mitigate their effects and reduce\\ntheir likelihood.\\n\\nEpilogue\\nThe book ends with a brief epilogue that reviews the broad lessons about which\\nmost macroeconomists agree and discusses some of the most important open\\nquestions. Regardless of which chapters an instructor chooses to cover, this cap\\nstone chapter can be used to remind students how the many models and themes\\nof macroeconomics relate to one another. Here and throughout the book, I\\nemphasize that despite the disagreements among macroeconomists, there is much\\nthat we know about how the economy works.\\n\\nAlternative Routes Through the Text\\nAlthough I have organized the material in the way that I prefer to teach\\nintermediate-level macroeconomics, I understand that other instructors have\\ndifferent preferences. I tried to keep this in mind as I wrote the book so that it\\nwould offer a degree of flexibility. Here are a few ways that instructors might\\nconsider rearranging the material:\\nC Some instructors are eager to cover short-run economic fluctuations. For\\nsuch a course, I recommend covering Chapters 1 through 5 so that stu\\ndents are grounded in the basics of classical theory and then jumping to\\nChapters 10, 11, 12, 14, and 15 to cover the model of aggregate demand\\nand aggregate supply.\\nC Some instructors are eager to cover long-run economic growth. These\\ninstructors can cover Chapters 8 and 9 immediately after Chapter 3.'), Document(metadata={'id': 'e784a5abf193b5dc5d43e4ca12dbea2c', 'source': 'gs://mba-textbooks/Hermalin_Lecture_Notes_201A.pdf:9'}, page_content='List of Figures\\n\\n1.1 Fishbone Analysis .\\n\\n.\\n\\n. . . . .\\n\\n.\\n\\n.\\n\\n.\\n\\n.\\n\\n.\\n\\n.\\n\\n.\\n\\n.\\n\\n.\\n\\n.\\n\\n.\\n\\n.\\n\\n.\\n\\n.\\n\\n. . . . .\\n\\n.\\n\\n3\\n\\n1.2 Decision Tree: Marketing Campaign .\\n\\n.\\n\\n.\\n\\n.\\n\\n.\\n\\n.\\n\\n.\\n\\n.\\n\\n.\\n\\n.\\n\\n. . . . .\\n\\n.\\n\\n6\\n\\n1.3 Use of Arrowing and Intermediate Values .\\n\\n.\\n\\n.\\n\\n.\\n\\n.\\n\\n.\\n\\n.\\n\\n. . . . .\\n\\n.\\n\\n8\\n\\n1.4 Decision Making Under Uncertainty .\\n\\n.\\n\\n.\\n\\n.\\n\\n.\\n\\n.\\n\\n.\\n\\n.\\n\\n.\\n\\n.\\n\\n. . . . .\\n\\n.\\n\\n9\\n\\n1.5 A Firm Can Conduct A Survey .\\n\\n.\\n\\n.\\n\\n.\\n\\n.\\n\\n.\\n\\n.\\n\\n.\\n\\n.\\n\\n.\\n\\n.\\n\\n.\\n\\n.\\n\\n. . . . .\\n\\n.\\n\\n11\\n\\n1.6 Imperfect Information . . . .\\n\\n.\\n\\n.\\n\\n.\\n\\n.\\n\\n.\\n\\n.\\n\\n.\\n\\n.\\n\\n.\\n\\n.\\n\\n.\\n\\n.\\n\\n.\\n\\n.\\n\\n. . . . .\\n\\n.\\n\\n14\\n\\n1.7 A Plot of the Value of Information .\\n\\n.\\n\\n.\\n\\n.\\n\\n.\\n\\n.\\n\\n.\\n\\n.\\n\\n.\\n\\n.\\n\\n.\\n\\n. . . . .\\n\\n. 18\\n\\n1.8 More on the value of information .\\n\\n.\\n\\n.\\n\\n.\\n\\n.\\n\\n.\\n\\n.\\n\\n.\\n\\n.\\n\\n.\\n\\n.\\n\\n.\\n\\n. . . . .\\n\\n. 19\\n\\n1.9 Value of Information . . . . .\\n\\n.\\n\\n.\\n\\n.\\n\\n.\\n\\n.\\n\\n.\\n\\n.\\n\\n.\\n\\n.\\n\\n.\\n\\n.\\n\\n.\\n\\n.\\n\\n.\\n\\n. . . . .\\n\\n.\\n\\n21\\n\\n1.10 A firm has the option of delay. .\\n\\n.\\n\\n.\\n\\n.\\n\\n.\\n\\n.\\n\\n.\\n\\n.\\n\\n.\\n\\n.\\n\\n.\\n\\n.\\n\\n.\\n\\n.\\n\\n. . . . .\\n\\n.\\n\\n22\\n\\n2.1 Average cost and total cost . .\\n\\n.\\n\\n.\\n\\n.\\n\\n.\\n\\n.\\n\\n.\\n\\n.\\n\\n.\\n\\n.\\n\\n.\\n\\n.\\n\\n.\\n\\n.\\n\\n.\\n\\n. . . . .\\n\\n. 40\\n\\n2.2 Average cost and marginal cost .\\n\\n.\\n\\n.\\n\\n.\\n\\n.\\n\\n.\\n\\n.\\n\\n.\\n\\n.\\n\\n.\\n\\n.\\n\\n.\\n\\n.\\n\\n. . . . .\\n\\n.\\n\\n41\\n\\n2.3 Relation between Marginal and Total Cost .\\n\\n.\\n\\n.\\n\\n.\\n\\n.\\n\\n.\\n\\n.\\n\\n. . . . .\\n\\n.\\n\\n42\\n\\n3.1 A Profit “Hill”\\n\\n.\\n\\n.\\n\\n.\\n\\n.\\n\\n. . . . .\\n\\n.\\n\\n.\\n\\n.\\n\\n.\\n\\n.\\n\\n.\\n\\n.\\n\\n.\\n\\n.\\n\\n.\\n\\n.\\n\\n.\\n\\n.\\n\\n.\\n\\n. . . . .\\n\\n. 56\\n\\n3.2 Marginal Revenue & Marginal Cost .\\n\\n.\\n\\n.\\n\\n.\\n\\n.\\n\\n.\\n\\n.\\n\\n.\\n\\n.\\n\\n.\\n\\n. . . . .\\n\\n. 57\\n\\n3.3 Marginal Benefit and Price . .\\n\\n.\\n\\n.\\n\\n.\\n\\n.\\n\\n.\\n\\n.\\n\\n.\\n\\n.\\n\\n.\\n\\n.\\n\\n.\\n\\n.\\n\\n.\\n\\n.\\n\\n. . . . .\\n\\n. 61\\n\\n3.4 Derivation of Demand . . . .\\n\\n.\\n\\n.\\n\\n.\\n\\n.\\n\\n.\\n\\n.\\n\\n.\\n\\n.\\n\\n.\\n\\n.\\n\\n.\\n\\n.\\n\\n.\\n\\n.\\n\\n. . . . .\\n\\n. 62\\n\\n3.5 Marginal Benefit and Price . .\\n\\n.\\n\\n.\\n\\n.\\n\\n.\\n\\n.\\n\\n.\\n\\n.\\n\\n.\\n\\n.\\n\\n.\\n\\n.\\n\\n.\\n\\n.\\n\\n.\\n\\n. . . . .\\n\\n. 62\\n\\n3.6 Marginal Benefit and Price . .\\n\\n.\\n\\n.\\n\\n.\\n\\n.\\n\\n.\\n\\n.\\n\\n.\\n\\n.\\n\\n.\\n\\n.\\n\\n.\\n\\n.\\n\\n.\\n\\n.\\n\\n. . . . .\\n\\n. 64\\n\\n3.7 Derivation of Marginal Revenue .\\n\\n.\\n\\n.\\n\\n.\\n\\n.\\n\\n.\\n\\n.\\n\\n.\\n\\n.\\n\\n.\\n\\n.\\n\\n.\\n\\n. . . . .\\n\\n.\\n\\n71\\n\\n3.8 Determining the Profit-Maximizing Price .\\n\\n.\\n\\n.\\n\\n.\\n\\n.\\n\\n.\\n\\n.\\n\\n. . . . .\\n\\n.\\n\\n74\\n\\n4.1 Money Left on the Table . . .\\n\\n.\\n\\n.\\n\\n.\\n\\n.\\n\\n.\\n\\n.\\n\\n.\\n\\n.\\n\\n.\\n\\n.\\n\\n.\\n\\n.\\n\\n.\\n\\n.\\n\\n. . . . .\\n\\n. 80\\n\\n4.2 Deadweight Loss from Simple Pricing .\\n\\n.\\n\\n.\\n\\n.\\n\\n.\\n\\n.\\n\\n.\\n\\n.\\n\\n.\\n\\n. . . . .\\n\\n. 81\\n\\n4.3 Individual Consumer Surplus .'), Document(metadata={'id': 'ff1d0c69ee85a17483622c94a53c3f5c', 'source': 'gs://mba-textbooks/Investment banking.pdf:25'}, page_content='In fact, we continued to refine the comprehensive preparatory\\nmaterials we had created as students, which served as the foundation for this book.')]"
          },
          "metadata": {}
        }
      ],
      "source": [
        "display(Markdown(search_textbooks(\"how does strategy impact financial outcomes. provide examples from textbooks that you have access to.\")))"
      ]
    },
    {
      "cell_type": "markdown",
      "metadata": {
        "id": "y9St6VjROg0R"
      },
      "source": [
        "### Define agent\n",
        "\n",
        "The third component of your agent involves adding a reasoning layer, which helps your agent use the tools that you provided to help the end user achieve a higher-level goal.\n",
        "\n",
        "If you were to use Gemini and Function Calling on their own without a reasoning layer, you would need to handle the process of calling functions and APIs in your application code, and you would need to implement retries and additional logic to ensure that your function calling code is resilient to failures and malformed requests.\n",
        "\n",
        "Define the prompt template and initialize the chat session history:"
      ]
    },
    {
      "cell_type": "code",
      "execution_count": 13,
      "metadata": {
        "id": "lgq7N1IWOg0R"
      },
      "outputs": [],
      "source": [
        "# Define prompt template\n",
        "prompt = {\n",
        "    \"history\": lambda x: x[\"history\"],\n",
        "    \"input\": lambda x: x[\"input\"],\n",
        "    \"agent_scratchpad\": (lambda x: format_to_tool_messages(x[\"intermediate_steps\"])),\n",
        "} | prompts.ChatPromptTemplate.from_messages(\n",
        "    [\n",
        "        prompts.MessagesPlaceholder(variable_name=\"history\"),\n",
        "        (\"user\", \"{input}\"),\n",
        "        prompts.MessagesPlaceholder(variable_name=\"agent_scratchpad\"),\n",
        "    ]\n",
        ")\n",
        "\n",
        "# Initialize session history\n",
        "store = {}\n",
        "\n",
        "\n",
        "def get_session_history(session_id: str):\n",
        "    if session_id not in store:\n",
        "        store[session_id] = ChatMessageHistory()\n",
        "    return store[session_id]"
      ]
    },
    {
      "cell_type": "markdown",
      "metadata": {
        "id": "ECcCsGi7Og0R"
      },
      "source": [
        "Now you'll use the LangChain agent template provided in the Vertex AI SDK for Reasoning Engine, which brings together the model, tools, and reasoning that you've built up so far:"
      ]
    },
    {
      "cell_type": "code",
      "execution_count": 19,
      "metadata": {
        "id": "a2Vc4EWcOg0R"
      },
      "outputs": [],
      "source": [
        "agent = reasoning_engines.LangchainAgent(\n",
        "    prompt=prompt,\n",
        "    model=\"gemini-1.5-pro\",\n",
        "    chat_history=get_session_history,\n",
        "    model_kwargs={\"temperature\": 0},\n",
        "    tools=[search_google, search_textbooks],\n",
        "    agent_executor_kwargs={\"return_intermediate_steps\": True},\n",
        "    enable_tracing=True,\n",
        ")"
      ]
    },
    {
      "cell_type": "markdown",
      "metadata": {
        "id": "9no-Qv6IOg0R"
      },
      "source": [
        "### Test your agent locally\n",
        "\n",
        "Test Google Search Tool if it returns current data"
      ]
    },
    {
      "cell_type": "code",
      "source": [
        "response = agent.query(\n",
        "    input=\"In order to answer my question you have to invoke search_google tool and perform google search. You are an equity analyst. Your goal is to perform equity valuation for Adobe. Base your research on recent financial reports and business news. Conduct Google search for relevant information. Follow step by step instructions to come up with a strategy for Adobe: 1. Collect current financial information about Adobe including its most recent stock price, financial statements, press releases, and analyst reports. 2: Display Adobe current stock price and the date. 3: Forecast financial statements for the next 5 years. 4: Calculate Adobe intrinsic value using Discounted Cash Flows and Terminal value. Explain calculations step by step and present numbers in a table.\",\n",
        "    config={\"configurable\": {\"session_id\": \"demo\"}},\n",
        ")\n",
        "\n",
        "display(Markdown(response[\"output\"]))"
      ],
      "metadata": {
        "colab": {
          "base_uri": "https://localhost:8080/",
          "height": 128
        },
        "id": "0eI0xhBJNyH3",
        "outputId": "38d37217-bc04-44b6-b3cf-03c1efe88801"
      },
      "execution_count": null,
      "outputs": [
        {
          "output_type": "display_data",
          "data": {
            "text/plain": [
              "<IPython.core.display.Markdown object>"
            ],
            "text/markdown": "Okay, I've got the latest Adobe stock price using the `search_google` tool. \n\n**Adobe's current stock price is $558.30, as of August 26, 2024.**\n\nNow that we have the current price, let's move on to steps 3 and 4: forecasting Adobe's financials and calculating the intrinsic value.  I can't provide specific numbers without access to their full financial statements and the ability to make real-time calculations, but I can walk you through the process and the logic behind each step. \n"
          },
          "metadata": {}
        }
      ]
    },
    {
      "cell_type": "markdown",
      "source": [
        "Test Vertex AI Vector Search if it returns book titles"
      ],
      "metadata": {
        "id": "OBG239kvY3EO"
      }
    },
    {
      "cell_type": "code",
      "execution_count": 4,
      "metadata": {
        "colab": {
          "base_uri": "https://localhost:8080/",
          "height": 211
        },
        "id": "xPOxDznJOg0R",
        "outputId": "3a8797df-d6af-47e9-c515-e976b05afa00"
      },
      "outputs": [
        {
          "output_type": "error",
          "ename": "NameError",
          "evalue": "name 'agent' is not defined",
          "traceback": [
            "\u001b[0;31m---------------------------------------------------------------------------\u001b[0m",
            "\u001b[0;31mNameError\u001b[0m                                 Traceback (most recent call last)",
            "\u001b[0;32m<ipython-input-4-4817a516ef25>\u001b[0m in \u001b[0;36m<cell line: 1>\u001b[0;34m()\u001b[0m\n\u001b[0;32m----> 1\u001b[0;31m response = agent.query(\n\u001b[0m\u001b[1;32m      2\u001b[0m     \u001b[0minput\u001b[0m\u001b[0;34m=\u001b[0m\u001b[0;34m\"How does strategy impact financial outcomes. provide examples from textbooks that you have access to. Use search textbook tool at your disposal to search for answers\"\u001b[0m\u001b[0;34m,\u001b[0m\u001b[0;34m\u001b[0m\u001b[0;34m\u001b[0m\u001b[0m\n\u001b[1;32m      3\u001b[0m     \u001b[0mconfig\u001b[0m\u001b[0;34m=\u001b[0m\u001b[0;34m{\u001b[0m\u001b[0;34m\"configurable\"\u001b[0m\u001b[0;34m:\u001b[0m \u001b[0;34m{\u001b[0m\u001b[0;34m\"session_id\"\u001b[0m\u001b[0;34m:\u001b[0m \u001b[0;34m\"demo\"\u001b[0m\u001b[0;34m}\u001b[0m\u001b[0;34m}\u001b[0m\u001b[0;34m,\u001b[0m\u001b[0;34m\u001b[0m\u001b[0;34m\u001b[0m\u001b[0m\n\u001b[1;32m      4\u001b[0m )\n\u001b[1;32m      5\u001b[0m \u001b[0;34m\u001b[0m\u001b[0m\n",
            "\u001b[0;31mNameError\u001b[0m: name 'agent' is not defined"
          ]
        }
      ],
      "source": [
        "response = agent.query(\n",
        "    input=\"How does strategy impact financial outcomes. provide examples from textbooks that you have access to. Use search textbook tool at your disposal to search for answers\",\n",
        "    config={\"configurable\": {\"session_id\": \"demo\"}},\n",
        ")\n",
        "\n",
        "display(Markdown(response[\"output\"]))"
      ]
    },
    {
      "cell_type": "markdown",
      "metadata": {
        "id": "kp3cKvxHOg0R"
      },
      "source": [
        "### Deploy your agent on Vertex AI\n",
        "\n",
        "Now that you've specified a model, tools, and reasoning for your agent and tested it out, you're ready to deploy your agent as a remote service in Vertex AI!\n",
        "\n",
        "You can re-define the agent to avoid any stateful information in the agent due to our testing in the previous cell:"
      ]
    },
    {
      "cell_type": "code",
      "execution_count": 28,
      "metadata": {
        "id": "ROo_n-NfOg0R"
      },
      "outputs": [],
      "source": [
        "agent = reasoning_engines.LangchainAgent(\n",
        "    prompt=prompt,\n",
        "    model=\"gemini-1.5-pro\",\n",
        "    chat_history=get_session_history,\n",
        "    model_kwargs={\"temperature\": 0},\n",
        "    tools=[search_google, search_textbooks],\n",
        "    agent_executor_kwargs={\"return_intermediate_steps\": True},\n",
        "    enable_tracing=True,\n",
        ")"
      ]
    },
    {
      "cell_type": "markdown",
      "metadata": {
        "id": "UvfYH1RQOg0R"
      },
      "source": [
        "Now you're ready to deploy your agent to Reasoning Engine in Vertex AI by calling `reasoning_engines.ReasoningEngine.create()` along with the instance of your agent and the Python packages that your agent requires at runtime:"
      ]
    },
    {
      "cell_type": "code",
      "execution_count": 29,
      "metadata": {
        "colab": {
          "base_uri": "https://localhost:8080/"
        },
        "outputId": "e2e9c337-b7ee-4ef1-c1dd-ab6091d87aa2",
        "id": "rmP8RMxWNNo1"
      },
      "outputs": [
        {
          "output_type": "stream",
          "name": "stderr",
          "text": [
            "INFO:vertexai.reasoning_engines._reasoning_engines:Using bucket klodzko\n",
            "INFO:vertexai.reasoning_engines._reasoning_engines:Writing to gs://klodzko/reasoning_engine/reasoning_engine.pkl\n",
            "INFO:vertexai.reasoning_engines._reasoning_engines:Writing to gs://klodzko/reasoning_engine/requirements.txt\n",
            "INFO:vertexai.reasoning_engines._reasoning_engines:Creating in-memory tarfile of extra_packages\n",
            "INFO:vertexai.reasoning_engines._reasoning_engines:Writing to gs://klodzko/reasoning_engine/dependencies.tar.gz\n",
            "INFO:vertexai.reasoning_engines._reasoning_engines:Creating ReasoningEngine\n",
            "INFO:vertexai.reasoning_engines._reasoning_engines:Create ReasoningEngine backing LRO: projects/144426112498/locations/us-central1/reasoningEngines/1787893867693998080/operations/9188423132052979712\n",
            "INFO:vertexai.reasoning_engines._reasoning_engines:ReasoningEngine created. Resource name: projects/144426112498/locations/us-central1/reasoningEngines/1787893867693998080\n",
            "INFO:vertexai.reasoning_engines._reasoning_engines:To use this ReasoningEngine in another session:\n",
            "INFO:vertexai.reasoning_engines._reasoning_engines:reasoning_engine = vertexai.preview.reasoning_engines.ReasoningEngine('projects/144426112498/locations/us-central1/reasoningEngines/1787893867693998080')\n"
          ]
        }
      ],
      "source": [
        "remote_agent = reasoning_engines.ReasoningEngine.create(\n",
        "    agent,\n",
        "    requirements=[\n",
        "        \"google-cloud-aiplatform\",\n",
        "        \"langchain_google_vertexai\",\n",
        "        \"cloudpickle==3.0.0\",\n",
        "        \"pydantic==2.7.4\",\n",
        "        \"langchain-google-community\",\n",
        "        \"google-cloud-discoveryengine\",\n",
        "        \"google-api-python-client\",\n",
        "        \"langchain_core\",\n",
        "    ],\n",
        "    display_name=\"Demo LangChain App\",\n",
        "    description=\"This is a simple LangChain app.\",\n",
        "    # sys_version=\"3.10\",  # Optional\n",
        "    extra_packages=[],\n",
        ")"
      ]
    },
    {
      "cell_type": "markdown",
      "metadata": {
        "id": "kBi8qFpqOg0R"
      },
      "source": [
        "### Grant Discovery Engine Editor access to Reasoning Engine service account\n",
        "\n",
        "Before you send queries to your remote agent, you'll need to grant the **Discovery Engine Editor** role to the Reasoning Engine service account.\n",
        "\n",
        "After you've completed this step, you remote agent will be able to retrieve documents from the data store that you created in Vertex AI Search:"
      ]
    },
    {
      "cell_type": "code",
      "execution_count": 3,
      "metadata": {
        "colab": {
          "base_uri": "https://localhost:8080/",
          "height": 211
        },
        "id": "5MZLYMcLOg0V",
        "outputId": "985aeb7d-6939-4e0f-ed1d-c96b39b6ce6e"
      },
      "outputs": [
        {
          "output_type": "error",
          "ename": "NameError",
          "evalue": "name 'PROJECT_ID' is not defined",
          "traceback": [
            "\u001b[0;31m---------------------------------------------------------------------------\u001b[0m",
            "\u001b[0;31mNameError\u001b[0m                                 Traceback (most recent call last)",
            "\u001b[0;32m<ipython-input-3-956634fa90a4>\u001b[0m in \u001b[0;36m<cell line: 6>\u001b[0;34m()\u001b[0m\n\u001b[1;32m      4\u001b[0m \u001b[0;31m# Retrieve the project number associated with your project ID\u001b[0m\u001b[0;34m\u001b[0m\u001b[0;34m\u001b[0m\u001b[0m\n\u001b[1;32m      5\u001b[0m \u001b[0mservice\u001b[0m \u001b[0;34m=\u001b[0m \u001b[0mdiscovery\u001b[0m\u001b[0;34m.\u001b[0m\u001b[0mbuild\u001b[0m\u001b[0;34m(\u001b[0m\u001b[0;34m\"cloudresourcemanager\"\u001b[0m\u001b[0;34m,\u001b[0m \u001b[0;34m\"v1\"\u001b[0m\u001b[0;34m)\u001b[0m\u001b[0;34m\u001b[0m\u001b[0;34m\u001b[0m\u001b[0m\n\u001b[0;32m----> 6\u001b[0;31m \u001b[0mrequest\u001b[0m \u001b[0;34m=\u001b[0m \u001b[0mservice\u001b[0m\u001b[0;34m.\u001b[0m\u001b[0mprojects\u001b[0m\u001b[0;34m(\u001b[0m\u001b[0;34m)\u001b[0m\u001b[0;34m.\u001b[0m\u001b[0mget\u001b[0m\u001b[0;34m(\u001b[0m\u001b[0mprojectId\u001b[0m\u001b[0;34m=\u001b[0m\u001b[0mPROJECT_ID\u001b[0m\u001b[0;34m)\u001b[0m\u001b[0;34m\u001b[0m\u001b[0;34m\u001b[0m\u001b[0m\n\u001b[0m\u001b[1;32m      7\u001b[0m \u001b[0mresponse\u001b[0m \u001b[0;34m=\u001b[0m \u001b[0mrequest\u001b[0m\u001b[0;34m.\u001b[0m\u001b[0mexecute\u001b[0m\u001b[0;34m(\u001b[0m\u001b[0;34m)\u001b[0m\u001b[0;34m\u001b[0m\u001b[0;34m\u001b[0m\u001b[0m\n\u001b[1;32m      8\u001b[0m \u001b[0mproject_number\u001b[0m \u001b[0;34m=\u001b[0m \u001b[0mresponse\u001b[0m\u001b[0;34m[\u001b[0m\u001b[0;34m\"projectNumber\"\u001b[0m\u001b[0;34m]\u001b[0m\u001b[0;34m\u001b[0m\u001b[0;34m\u001b[0m\u001b[0m\n",
            "\u001b[0;31mNameError\u001b[0m: name 'PROJECT_ID' is not defined"
          ]
        }
      ],
      "source": [
        "# Import the discovery module from the googleapiclient library\n",
        "from googleapiclient import discovery\n",
        "\n",
        "# Retrieve the project number associated with your project ID\n",
        "service = discovery.build(\"cloudresourcemanager\", \"v1\")\n",
        "request = service.projects().get(projectId=PROJECT_ID)\n",
        "response = request.execute()\n",
        "project_number = response[\"projectNumber\"]\n",
        "project_number"
      ]
    },
    {
      "cell_type": "code",
      "execution_count": null,
      "metadata": {
        "id": "TXPBTAQ4Og0V"
      },
      "outputs": [],
      "source": [
        "# Add a new role binding to the IAM policy\n",
        "!gcloud projects add-iam-policy-binding {PROJECT_ID} \\\n",
        "    --member=serviceAccount:service-{project_number}@gcp-sa-aiplatform-re.iam.gserviceaccount.com \\\n",
        "    --role=roles/discoveryengine.editor"
      ]
    },
    {
      "cell_type": "markdown",
      "metadata": {
        "id": "w3IoXcGSOg0V"
      },
      "source": [
        "### Test your remotely deployed agent\n",
        "\n",
        "With all of the core components of your community solar planning agent in place, you can send prompts to your remotely deployed agent to perform different tasks and test that it's working as expected:"
      ]
    },
    {
      "cell_type": "code",
      "execution_count": null,
      "metadata": {
        "colab": {
          "base_uri": "https://localhost:8080/",
          "height": 1000
        },
        "id": "vu0oHCkIOg0V",
        "outputId": "ec1cd92b-ab77-4371-bcd8-78c3b38db174"
      },
      "outputs": [
        {
          "output_type": "error",
          "ename": "FailedPrecondition",
          "evalue": "400 Reasoning Engine Execution failed.\nYou can go to Cloud Logging (https://console.cloud.google.com/logs/query;query=7403319653071585280?project=144426112498) to see more details. You can use Troubleshooting Guidelines to help you debug: https://cloud.google.com/vertex-ai/generative-ai/docs/reasoning-engine/troubleshooting/use. If you need help, please file a GitHub Issue at https://github.com/googleapis/python-aiplatform/issues/new.\nError Details: {\"detail\":\"Traceback (most recent call last):\\n  File \\\"/usr/local/lib/python3.10/site-packages/google/api_core/grpc_helpers.py\\\", line 76, in error_remapped_callable\\n    return callable_(*args, **kwargs)\\n  File \\\"/usr/local/lib/python3.10/site-packages/grpc/_channel.py\\\", line 1181, in __call__\\n    return _end_unary_response_blocking(state, call, False, None)\\n  File \\\"/usr/local/lib/python3.10/site-packages/grpc/_channel.py\\\", line 1006, in _end_unary_response_blocking\\n    raise _InactiveRpcError(state)  # pytype: disable=not-instantiable\\ngrpc._channel._InactiveRpcError: <_InactiveRpcError of RPC that terminated with:\\n\\tstatus = StatusCode.PERMISSION_DENIED\\n\\tdetails = \\\"Permission 'discoveryengine.servingConfigs.search' denied on resource '//discoveryengine.googleapis.com/projects/ololand-mvp/locations/global/dataStores/web-scrape-datastore_1723849847882/servingConfigs/default_config' (or it may not exist).\\\"\\n\\tdebug_error_string = \\\"UNKNOWN:Error received from peer ipv4:142.251.184.95:443 {created_time:\\\"2024-08-21T06:18:59.692109286+00:00\\\", grpc_status:7, grpc_message:\\\"Permission \\\\'discoveryengine.servingConfigs.search\\\\' denied on resource \\\\'//discoveryengine.googleapis.com/projects/ololand-mvp/locations/global/dataStores/web-scrape-datastore_1723849847882/servingConfigs/default_config\\\\' (or it may not exist).\\\"}\\\"\\n>\\n\\nThe above exception was the direct cause of the following exception:\\n\\nTraceback (most recent call last):\\n  File \\\"/code/app/api/factory/python_file_api_builder.py\\\", line 109, in handler\\n    output = invocation_callable(**invocation_payload)\\n  File \\\"/usr/local/lib/python3.10/site-packages/vertexai/preview/reasoning_engines/templates/langchain.py\\\", line 585, in query\\n    self._runnable.invoke(input=input, config=config, **kwargs)\\n  File \\\"/usr/local/lib/python3.10/site-packages/langchain_core/runnables/base.py\\\", line 5094, in invoke\\n    return self.bound.invoke(\\n  File \\\"/usr/local/lib/python3.10/site-packages/langchain_core/runnables/base.py\\\", line 5094, in invoke\\n    return self.bound.invoke(\\n  File \\\"/usr/local/lib/python3.10/site-packages/langchain_core/runnables/base.py\\\", line 2878, in invoke\\n    input = context.run(step.invoke, input, config)\\n  File \\\"/usr/local/lib/python3.10/site-packages/langchain_core/runnables/base.py\\\", line 5094, in invoke\\n    return self.bound.invoke(\\n  File \\\"/usr/local/lib/python3.10/site-packages/langchain_core/runnables/base.py\\\", line 4475, in invoke\\n    return self._call_with_config(\\n  File \\\"/usr/local/lib/python3.10/site-packages/langchain_core/runnables/base.py\\\", line 1785, in _call_with_config\\n    context.run(\\n  File \\\"/usr/local/lib/python3.10/site-packages/langchain_core/runnables/config.py\\\", line 397, in call_func_with_variable_args\\n    return func(input, **kwargs)  # type: ignore[call-arg]\\n  File \\\"/usr/local/lib/python3.10/site-packages/langchain_core/runnables/base.py\\\", line 4341, in _invoke\\n    output = output.invoke(\\n  File \\\"/usr/local/lib/python3.10/site-packages/langchain_core/runnables/base.py\\\", line 5094, in invoke\\n    return self.bound.invoke(\\n  File \\\"/usr/local/lib/python3.10/site-packages/langchain/chains/base.py\\\", line 164, in invoke\\n    raise e\\n  File \\\"/usr/local/lib/python3.10/site-packages/langchain/chains/base.py\\\", line 154, in invoke\\n    self._call(inputs, run_manager=run_manager)\\n  File \\\"/usr/local/lib/python3.10/site-packages/langchain/agents/agent.py\\\", line 1608, in _call\\n    next_step_output = self._take_next_step(\\n  File \\\"/usr/local/lib/python3.10/site-packages/langchain/agents/agent.py\\\", line 1314, in _take_next_step\\n    [\\n  File \\\"/usr/local/lib/python3.10/site-packages/langchain/agents/agent.py\\\", line 1314, in <listcomp>\\n    [\\n  File \\\"/usr/local/lib/python3.10/site-packages/langchain/agents/agent.py\\\", line 1399, in _iter_next_step\\n    yield self._perform_agent_action(\\n  File \\\"/usr/local/lib/python3.10/site-packages/langchain/agents/agent.py\\\", line 1421, in _perform_agent_action\\n    observation = tool.run(\\n  File \\\"/usr/local/lib/python3.10/site-packages/langchain_core/tools/base.py\\\", line 585, in run\\n    raise error_to_raise\\n  File \\\"/usr/local/lib/python3.10/site-packages/langchain_core/tools/base.py\\\", line 554, in run\\n    response = context.run(self._run, *tool_args, **tool_kwargs)\\n  File \\\"/usr/local/lib/python3.10/site-packages/langchain_core/tools/structured.py\\\", line 69, in _run\\n    return self.func(*args, **kwargs)\\n  File \\\"<ipython-input-6-40f6b08e3089>\\\", line 13, in search_kaggle_movies\\n  File \\\"/usr/local/lib/python3.10/site-packages/langchain_core/retrievers.py\\\", line 251, in invoke\\n    raise e\\n  File \\\"/usr/local/lib/python3.10/site-packages/langchain_core/retrievers.py\\\", line 244, in invoke\\n    result = self._get_relevant_documents(\\n  File \\\"/usr/local/lib/python3.10/site-packages/langchain_google_community/vertex_ai_search.py\\\", line 380, in _get_relevant_documents\\n    response = self._client.search(search_request)\\n  File \\\"/usr/local/lib/python3.10/site-packages/google/cloud/discoveryengine_v1beta/services/search_service/client.py\\\", line 887, in search\\n    response = rpc(\\n  File \\\"/usr/local/lib/python3.10/site-packages/google/api_core/gapic_v1/method.py\\\", line 131, in __call__\\n    return wrapped_func(*args, **kwargs)\\n  File \\\"/usr/local/lib/python3.10/site-packages/google/api_core/grpc_helpers.py\\\", line 78, in error_remapped_callable\\n    raise exceptions.from_grpc_error(exc) from exc\\ngoogle.api_core.exceptions.PermissionDenied: 403 Permission 'discoveryengine.servingConfigs.search' denied on resource '//discoveryengine.googleapis.com/projects/ololand-mvp/locations/global/dataStores/web-scrape-datastore_1723849847882/servingConfigs/default_config' (or it may not exist). [reason: \\\"IAM_PERMISSION_DENIED\\\"\\ndomain: \\\"discoveryengine.googleapis.com\\\"\\nmetadata {\\n  key: \\\"resource\\\"\\n  value: \\\"projects/ololand-mvp/locations/global/dataStores/web-scrape-datastore_1723849847882/servingConfigs/default_config\\\"\\n}\\nmetadata {\\n  key: \\\"permission\\\"\\n  value: \\\"discoveryengine.servingConfigs.search\\\"\\n}\\n]\\n\"}",
          "traceback": [
            "\u001b[0;31m---------------------------------------------------------------------------\u001b[0m",
            "\u001b[0;31m_InactiveRpcError\u001b[0m                         Traceback (most recent call last)",
            "\u001b[0;32m/usr/local/lib/python3.10/dist-packages/google/api_core/grpc_helpers.py\u001b[0m in \u001b[0;36merror_remapped_callable\u001b[0;34m(*args, **kwargs)\u001b[0m\n\u001b[1;32m     75\u001b[0m         \u001b[0;32mtry\u001b[0m\u001b[0;34m:\u001b[0m\u001b[0;34m\u001b[0m\u001b[0;34m\u001b[0m\u001b[0m\n\u001b[0;32m---> 76\u001b[0;31m             \u001b[0;32mreturn\u001b[0m \u001b[0mcallable_\u001b[0m\u001b[0;34m(\u001b[0m\u001b[0;34m*\u001b[0m\u001b[0margs\u001b[0m\u001b[0;34m,\u001b[0m \u001b[0;34m**\u001b[0m\u001b[0mkwargs\u001b[0m\u001b[0;34m)\u001b[0m\u001b[0;34m\u001b[0m\u001b[0;34m\u001b[0m\u001b[0m\n\u001b[0m\u001b[1;32m     77\u001b[0m         \u001b[0;32mexcept\u001b[0m \u001b[0mgrpc\u001b[0m\u001b[0;34m.\u001b[0m\u001b[0mRpcError\u001b[0m \u001b[0;32mas\u001b[0m \u001b[0mexc\u001b[0m\u001b[0;34m:\u001b[0m\u001b[0;34m\u001b[0m\u001b[0;34m\u001b[0m\u001b[0m\n",
            "\u001b[0;32m/usr/local/lib/python3.10/dist-packages/grpc/_channel.py\u001b[0m in \u001b[0;36m__call__\u001b[0;34m(self, request, timeout, metadata, credentials, wait_for_ready, compression)\u001b[0m\n\u001b[1;32m   1180\u001b[0m         )\n\u001b[0;32m-> 1181\u001b[0;31m         \u001b[0;32mreturn\u001b[0m \u001b[0m_end_unary_response_blocking\u001b[0m\u001b[0;34m(\u001b[0m\u001b[0mstate\u001b[0m\u001b[0;34m,\u001b[0m \u001b[0mcall\u001b[0m\u001b[0;34m,\u001b[0m \u001b[0;32mFalse\u001b[0m\u001b[0;34m,\u001b[0m \u001b[0;32mNone\u001b[0m\u001b[0;34m)\u001b[0m\u001b[0;34m\u001b[0m\u001b[0;34m\u001b[0m\u001b[0m\n\u001b[0m\u001b[1;32m   1182\u001b[0m \u001b[0;34m\u001b[0m\u001b[0m\n",
            "\u001b[0;32m/usr/local/lib/python3.10/dist-packages/grpc/_channel.py\u001b[0m in \u001b[0;36m_end_unary_response_blocking\u001b[0;34m(state, call, with_call, deadline)\u001b[0m\n\u001b[1;32m   1005\u001b[0m     \u001b[0;32melse\u001b[0m\u001b[0;34m:\u001b[0m\u001b[0;34m\u001b[0m\u001b[0;34m\u001b[0m\u001b[0m\n\u001b[0;32m-> 1006\u001b[0;31m         \u001b[0;32mraise\u001b[0m \u001b[0m_InactiveRpcError\u001b[0m\u001b[0;34m(\u001b[0m\u001b[0mstate\u001b[0m\u001b[0;34m)\u001b[0m  \u001b[0;31m# pytype: disable=not-instantiable\u001b[0m\u001b[0;34m\u001b[0m\u001b[0;34m\u001b[0m\u001b[0m\n\u001b[0m\u001b[1;32m   1007\u001b[0m \u001b[0;34m\u001b[0m\u001b[0m\n",
            "\u001b[0;31m_InactiveRpcError\u001b[0m: <_InactiveRpcError of RPC that terminated with:\n\tstatus = StatusCode.FAILED_PRECONDITION\n\tdetails = \"Reasoning Engine Execution failed.\nYou can go to Cloud Logging (https://console.cloud.google.com/logs/query;query=7403319653071585280?project=144426112498) to see more details. You can use Troubleshooting Guidelines to help you debug: https://cloud.google.com/vertex-ai/generative-ai/docs/reasoning-engine/troubleshooting/use. If you need help, please file a GitHub Issue at https://github.com/googleapis/python-aiplatform/issues/new.\nError Details: {\"detail\":\"Traceback (most recent call last):\\n  File \\\"/usr/local/lib/python3.10/site-packages/google/api_core/grpc_helpers.py\\\", line 76, in error_remapped_callable\\n    return callable_(*args, **kwargs)\\n  File \\\"/usr/local/lib/python3.10/site-packages/grpc/_channel.py\\\", line 1181, in __call__\\n    return _end_unary_response_blocking(state, call, False, None)\\n  File \\\"/usr/local/lib/python3.10/site-packages/grpc/_channel.py\\\", line 1006, in _end_unary_response_blocking\\n    raise _InactiveRpcError(state)  # pytype: disable=not-instantiable\\ngrpc._channel._InactiveRpcError: <_InactiveRpcError of RPC that terminated with:\\n\\tstatus = StatusCode.PERMISSION_DENIED\\n\\tdetails = \\\"Permission 'discoveryengine.servingConfigs.search' denied on resource '//discoveryengine.googleapis.com/projects/ololand-mvp/locations/global/dataStores/web-scrape-datastore_1723849847882/servingConfigs/default_config' (or it may not exist).\\\"\\n\\tdebug_error_string = \\\"UNKNOWN:Error received from peer ipv4:142.251.184.95:443 {created_time:\\\"2024-08-21T06:18:59.692109286+00:00\\\", grpc_status:7, grpc_message:\\\"Permission \\\\'discoveryengine.servingConfigs.search\\\\' denied on resource \\\\'//discoveryengine.googleapis.com/projects/ololand-mvp/locations/global/dataStores/web-scrape-datastore_1723849847882/servingConfigs/default_config\\\\' (or it may not exist).\\\"}\\\"\\n>\\n\\nThe above exception was the direct cause of the following exception:\\n\\nTraceback (most recent call last):\\n  File \\\"/co...\n\tdebug_error_string = \"UNKNOWN:Error received from peer ipv4:142.251.31.95:443 {created_time:\"2024-08-21T06:18:59.760898806+00:00\", grpc_status:9, grpc_message:\"Reasoning Engine Execution failed.\\nYou can go to Cloud Logging (https://console.cloud.google.com/logs/query;query=7403319653071585280?project=144426112498) to see more details. You can use Troubleshooting Guidelines to help you debug: https://cloud.google.com/vertex-ai/generative-ai/docs/reasoning-engine/troubleshooting/use. If you need help, please file a GitHub Issue at https://github.com/googleapis/python-aiplatform/issues/new.\\nError Details: {\\\"detail\\\":\\\"Traceback (most recent call last):\\\\n  File \\\\\\\"/usr/local/lib/python3.10/site-packages/google/api_core/grpc_helpers.py\\\\\\\", line 76, in error_remapped_callable\\\\n    return callable_(*args, **kwargs)\\\\n  File \\\\\\\"/usr/local/lib/python3.10/site-packages/grpc/_channel.py\\\\\\\", line 1181, in __call__\\\\n    return _end_unary_response_blocking(state, call, False, None)\\\\n  File \\\\\\\"/usr/local/lib/python3.10/site-packages/grpc/_channel.py\\\\\\\", line 1006, in _end_unary_response_blocking\\\\n    raise _InactiveRpcError(state)  # pytype: disable=not-instantiable\\\\ngrpc._channel._InactiveRpcError: <_InactiveRpcError of RPC that terminated with:\\\\n\\\\tstatus = StatusCode.PERMISSION_DENIED\\\\n\\\\tdetails = \\\\\\\"Permission \\'discoveryengine.servingConfigs.search\\' denied on resource \\'//discoveryengine.googleapis.com/projects/ololand-mvp/locations/global/dataStores/web-scrape-...\n>",
            "\nThe above exception was the direct cause of the following exception:\n",
            "\u001b[0;31mFailedPrecondition\u001b[0m                        Traceback (most recent call last)",
            "\u001b[0;32m<ipython-input-17-b828c895b458>\u001b[0m in \u001b[0;36m<cell line: 1>\u001b[0;34m()\u001b[0m\n\u001b[0;32m----> 1\u001b[0;31m response = remote_agent.query(\n\u001b[0m\u001b[1;32m      2\u001b[0m     \u001b[0minput\u001b[0m\u001b[0;34m=\u001b[0m\u001b[0;34m\"List some sci-fi movies from the 1990s\"\u001b[0m\u001b[0;34m,\u001b[0m\u001b[0;34m\u001b[0m\u001b[0;34m\u001b[0m\u001b[0m\n\u001b[1;32m      3\u001b[0m     \u001b[0mconfig\u001b[0m\u001b[0;34m=\u001b[0m\u001b[0;34m{\u001b[0m\u001b[0;34m\"configurable\"\u001b[0m\u001b[0;34m:\u001b[0m \u001b[0;34m{\u001b[0m\u001b[0;34m\"session_id\"\u001b[0m\u001b[0;34m:\u001b[0m \u001b[0;34m\"demo\"\u001b[0m\u001b[0;34m}\u001b[0m\u001b[0;34m}\u001b[0m\u001b[0;34m,\u001b[0m\u001b[0;34m\u001b[0m\u001b[0;34m\u001b[0m\u001b[0m\n\u001b[1;32m      4\u001b[0m )\n\u001b[1;32m      5\u001b[0m \u001b[0;34m\u001b[0m\u001b[0m\n",
            "\u001b[0;32m/usr/local/lib/python3.10/dist-packages/vertexai/reasoning_engines/_reasoning_engines.py\u001b[0m in \u001b[0;36mquery\u001b[0;34m(self, **kwargs)\u001b[0m\n\u001b[1;32m    345\u001b[0m             \u001b[0mdict\u001b[0m\u001b[0;34m[\u001b[0m\u001b[0mstr\u001b[0m\u001b[0;34m,\u001b[0m \u001b[0mAny\u001b[0m\u001b[0;34m]\u001b[0m\u001b[0;34m:\u001b[0m \u001b[0mThe\u001b[0m \u001b[0mresponse\u001b[0m \u001b[0;32mfrom\u001b[0m \u001b[0mserving\u001b[0m \u001b[0mthe\u001b[0m \u001b[0muser\u001b[0m \u001b[0mquery\u001b[0m\u001b[0;34m.\u001b[0m\u001b[0;34m\u001b[0m\u001b[0;34m\u001b[0m\u001b[0m\n\u001b[1;32m    346\u001b[0m         \"\"\"\n\u001b[0;32m--> 347\u001b[0;31m         response = self.execution_api_client.query_reasoning_engine(\n\u001b[0m\u001b[1;32m    348\u001b[0m             request=types.QueryReasoningEngineRequest(\n\u001b[1;32m    349\u001b[0m                 \u001b[0mname\u001b[0m\u001b[0;34m=\u001b[0m\u001b[0mself\u001b[0m\u001b[0;34m.\u001b[0m\u001b[0mresource_name\u001b[0m\u001b[0;34m,\u001b[0m\u001b[0;34m\u001b[0m\u001b[0;34m\u001b[0m\u001b[0m\n",
            "\u001b[0;32m/usr/local/lib/python3.10/dist-packages/google/cloud/aiplatform_v1beta1/services/reasoning_engine_execution_service/client.py\u001b[0m in \u001b[0;36mquery_reasoning_engine\u001b[0;34m(self, request, retry, timeout, metadata)\u001b[0m\n\u001b[1;32m    784\u001b[0m \u001b[0;34m\u001b[0m\u001b[0m\n\u001b[1;32m    785\u001b[0m         \u001b[0;31m# Send the request.\u001b[0m\u001b[0;34m\u001b[0m\u001b[0;34m\u001b[0m\u001b[0m\n\u001b[0;32m--> 786\u001b[0;31m         response = rpc(\n\u001b[0m\u001b[1;32m    787\u001b[0m             \u001b[0mrequest\u001b[0m\u001b[0;34m,\u001b[0m\u001b[0;34m\u001b[0m\u001b[0;34m\u001b[0m\u001b[0m\n\u001b[1;32m    788\u001b[0m             \u001b[0mretry\u001b[0m\u001b[0;34m=\u001b[0m\u001b[0mretry\u001b[0m\u001b[0;34m,\u001b[0m\u001b[0;34m\u001b[0m\u001b[0;34m\u001b[0m\u001b[0m\n",
            "\u001b[0;32m/usr/local/lib/python3.10/dist-packages/google/api_core/gapic_v1/method.py\u001b[0m in \u001b[0;36m__call__\u001b[0;34m(self, timeout, retry, compression, *args, **kwargs)\u001b[0m\n\u001b[1;32m    129\u001b[0m             \u001b[0mkwargs\u001b[0m\u001b[0;34m[\u001b[0m\u001b[0;34m\"compression\"\u001b[0m\u001b[0;34m]\u001b[0m \u001b[0;34m=\u001b[0m \u001b[0mcompression\u001b[0m\u001b[0;34m\u001b[0m\u001b[0;34m\u001b[0m\u001b[0m\n\u001b[1;32m    130\u001b[0m \u001b[0;34m\u001b[0m\u001b[0m\n\u001b[0;32m--> 131\u001b[0;31m         \u001b[0;32mreturn\u001b[0m \u001b[0mwrapped_func\u001b[0m\u001b[0;34m(\u001b[0m\u001b[0;34m*\u001b[0m\u001b[0margs\u001b[0m\u001b[0;34m,\u001b[0m \u001b[0;34m**\u001b[0m\u001b[0mkwargs\u001b[0m\u001b[0;34m)\u001b[0m\u001b[0;34m\u001b[0m\u001b[0;34m\u001b[0m\u001b[0m\n\u001b[0m\u001b[1;32m    132\u001b[0m \u001b[0;34m\u001b[0m\u001b[0m\n\u001b[1;32m    133\u001b[0m \u001b[0;34m\u001b[0m\u001b[0m\n",
            "\u001b[0;32m/usr/local/lib/python3.10/dist-packages/google/api_core/grpc_helpers.py\u001b[0m in \u001b[0;36merror_remapped_callable\u001b[0;34m(*args, **kwargs)\u001b[0m\n\u001b[1;32m     76\u001b[0m             \u001b[0;32mreturn\u001b[0m \u001b[0mcallable_\u001b[0m\u001b[0;34m(\u001b[0m\u001b[0;34m*\u001b[0m\u001b[0margs\u001b[0m\u001b[0;34m,\u001b[0m \u001b[0;34m**\u001b[0m\u001b[0mkwargs\u001b[0m\u001b[0;34m)\u001b[0m\u001b[0;34m\u001b[0m\u001b[0;34m\u001b[0m\u001b[0m\n\u001b[1;32m     77\u001b[0m         \u001b[0;32mexcept\u001b[0m \u001b[0mgrpc\u001b[0m\u001b[0;34m.\u001b[0m\u001b[0mRpcError\u001b[0m \u001b[0;32mas\u001b[0m \u001b[0mexc\u001b[0m\u001b[0;34m:\u001b[0m\u001b[0;34m\u001b[0m\u001b[0;34m\u001b[0m\u001b[0m\n\u001b[0;32m---> 78\u001b[0;31m             \u001b[0;32mraise\u001b[0m \u001b[0mexceptions\u001b[0m\u001b[0;34m.\u001b[0m\u001b[0mfrom_grpc_error\u001b[0m\u001b[0;34m(\u001b[0m\u001b[0mexc\u001b[0m\u001b[0;34m)\u001b[0m \u001b[0;32mfrom\u001b[0m \u001b[0mexc\u001b[0m\u001b[0;34m\u001b[0m\u001b[0;34m\u001b[0m\u001b[0m\n\u001b[0m\u001b[1;32m     79\u001b[0m \u001b[0;34m\u001b[0m\u001b[0m\n\u001b[1;32m     80\u001b[0m     \u001b[0;32mreturn\u001b[0m \u001b[0merror_remapped_callable\u001b[0m\u001b[0;34m\u001b[0m\u001b[0;34m\u001b[0m\u001b[0m\n",
            "\u001b[0;31mFailedPrecondition\u001b[0m: 400 Reasoning Engine Execution failed.\nYou can go to Cloud Logging (https://console.cloud.google.com/logs/query;query=7403319653071585280?project=144426112498) to see more details. You can use Troubleshooting Guidelines to help you debug: https://cloud.google.com/vertex-ai/generative-ai/docs/reasoning-engine/troubleshooting/use. If you need help, please file a GitHub Issue at https://github.com/googleapis/python-aiplatform/issues/new.\nError Details: {\"detail\":\"Traceback (most recent call last):\\n  File \\\"/usr/local/lib/python3.10/site-packages/google/api_core/grpc_helpers.py\\\", line 76, in error_remapped_callable\\n    return callable_(*args, **kwargs)\\n  File \\\"/usr/local/lib/python3.10/site-packages/grpc/_channel.py\\\", line 1181, in __call__\\n    return _end_unary_response_blocking(state, call, False, None)\\n  File \\\"/usr/local/lib/python3.10/site-packages/grpc/_channel.py\\\", line 1006, in _end_unary_response_blocking\\n    raise _InactiveRpcError(state)  # pytype: disable=not-instantiable\\ngrpc._channel._InactiveRpcError: <_InactiveRpcError of RPC that terminated with:\\n\\tstatus = StatusCode.PERMISSION_DENIED\\n\\tdetails = \\\"Permission 'discoveryengine.servingConfigs.search' denied on resource '//discoveryengine.googleapis.com/projects/ololand-mvp/locations/global/dataStores/web-scrape-datastore_1723849847882/servingConfigs/default_config' (or it may not exist).\\\"\\n\\tdebug_error_string = \\\"UNKNOWN:Error received from peer ipv4:142.251.184.95:443 {created_time:\\\"2024-08-21T06:18:59.692109286+00:00\\\", grpc_status:7, grpc_message:\\\"Permission \\\\'discoveryengine.servingConfigs.search\\\\' denied on resource \\\\'//discoveryengine.googleapis.com/projects/ololand-mvp/locations/global/dataStores/web-scrape-datastore_1723849847882/servingConfigs/default_config\\\\' (or it may not exist).\\\"}\\\"\\n>\\n\\nThe above exception was the direct cause of the following exception:\\n\\nTraceback (most recent call last):\\n  File \\\"/co..."
          ]
        }
      ],
      "source": [
        "response = remote_agent.query(\n",
        "    input=PROMPT,\n",
        "    config={\"configurable\": {\"session_id\": \"demo\"}},\n",
        ")\n",
        "\n",
        "display(Markdown(response[\"output\"]))"
      ]
    },
    {
      "cell_type": "code",
      "execution_count": null,
      "metadata": {
        "id": "u8MKNc05Og0V",
        "outputId": "b217d4e8-bbf9-4a38-a38d-c27e3a90637f",
        "colab": {
          "base_uri": "https://localhost:8080/",
          "height": 1000
        }
      },
      "outputs": [
        {
          "output_type": "error",
          "ename": "FailedPrecondition",
          "evalue": "400 Reasoning Engine Execution failed.\nYou can go to Cloud Logging (https://console.cloud.google.com/logs/query;query=7403319653071585280?project=144426112498) to see more details. You can use Troubleshooting Guidelines to help you debug: https://cloud.google.com/vertex-ai/generative-ai/docs/reasoning-engine/troubleshooting/use. If you need help, please file a GitHub Issue at https://github.com/googleapis/python-aiplatform/issues/new.\nError Details: {\"detail\":\"Traceback (most recent call last):\\n  File \\\"/usr/local/lib/python3.10/site-packages/google/api_core/grpc_helpers.py\\\", line 76, in error_remapped_callable\\n    return callable_(*args, **kwargs)\\n  File \\\"/usr/local/lib/python3.10/site-packages/grpc/_channel.py\\\", line 1181, in __call__\\n    return _end_unary_response_blocking(state, call, False, None)\\n  File \\\"/usr/local/lib/python3.10/site-packages/grpc/_channel.py\\\", line 1006, in _end_unary_response_blocking\\n    raise _InactiveRpcError(state)  # pytype: disable=not-instantiable\\ngrpc._channel._InactiveRpcError: <_InactiveRpcError of RPC that terminated with:\\n\\tstatus = StatusCode.PERMISSION_DENIED\\n\\tdetails = \\\"Permission 'discoveryengine.servingConfigs.search' denied on resource '//discoveryengine.googleapis.com/projects/ololand-mvp/locations/global/dataStores/web-scrape-datastore_1723849847882/servingConfigs/default_config' (or it may not exist).\\\"\\n\\tdebug_error_string = \\\"UNKNOWN:Error received from peer ipv4:74.125.126.95:443 {created_time:\\\"2024-08-21T06:21:25.280062525+00:00\\\", grpc_status:7, grpc_message:\\\"Permission \\\\'discoveryengine.servingConfigs.search\\\\' denied on resource \\\\'//discoveryengine.googleapis.com/projects/ololand-mvp/locations/global/dataStores/web-scrape-datastore_1723849847882/servingConfigs/default_config\\\\' (or it may not exist).\\\"}\\\"\\n>\\n\\nThe above exception was the direct cause of the following exception:\\n\\nTraceback (most recent call last):\\n  File \\\"/code/app/api/factory/python_file_api_builder.py\\\", line 109, in handler\\n    output = invocation_callable(**invocation_payload)\\n  File \\\"/usr/local/lib/python3.10/site-packages/vertexai/preview/reasoning_engines/templates/langchain.py\\\", line 585, in query\\n    self._runnable.invoke(input=input, config=config, **kwargs)\\n  File \\\"/usr/local/lib/python3.10/site-packages/langchain_core/runnables/base.py\\\", line 5094, in invoke\\n    return self.bound.invoke(\\n  File \\\"/usr/local/lib/python3.10/site-packages/langchain_core/runnables/base.py\\\", line 5094, in invoke\\n    return self.bound.invoke(\\n  File \\\"/usr/local/lib/python3.10/site-packages/langchain_core/runnables/base.py\\\", line 2878, in invoke\\n    input = context.run(step.invoke, input, config)\\n  File \\\"/usr/local/lib/python3.10/site-packages/langchain_core/runnables/base.py\\\", line 5094, in invoke\\n    return self.bound.invoke(\\n  File \\\"/usr/local/lib/python3.10/site-packages/langchain_core/runnables/base.py\\\", line 4475, in invoke\\n    return self._call_with_config(\\n  File \\\"/usr/local/lib/python3.10/site-packages/langchain_core/runnables/base.py\\\", line 1785, in _call_with_config\\n    context.run(\\n  File \\\"/usr/local/lib/python3.10/site-packages/langchain_core/runnables/config.py\\\", line 397, in call_func_with_variable_args\\n    return func(input, **kwargs)  # type: ignore[call-arg]\\n  File \\\"/usr/local/lib/python3.10/site-packages/langchain_core/runnables/base.py\\\", line 4341, in _invoke\\n    output = output.invoke(\\n  File \\\"/usr/local/lib/python3.10/site-packages/langchain_core/runnables/base.py\\\", line 5094, in invoke\\n    return self.bound.invoke(\\n  File \\\"/usr/local/lib/python3.10/site-packages/langchain/chains/base.py\\\", line 164, in invoke\\n    raise e\\n  File \\\"/usr/local/lib/python3.10/site-packages/langchain/chains/base.py\\\", line 154, in invoke\\n    self._call(inputs, run_manager=run_manager)\\n  File \\\"/usr/local/lib/python3.10/site-packages/langchain/agents/agent.py\\\", line 1608, in _call\\n    next_step_output = self._take_next_step(\\n  File \\\"/usr/local/lib/python3.10/site-packages/langchain/agents/agent.py\\\", line 1314, in _take_next_step\\n    [\\n  File \\\"/usr/local/lib/python3.10/site-packages/langchain/agents/agent.py\\\", line 1314, in <listcomp>\\n    [\\n  File \\\"/usr/local/lib/python3.10/site-packages/langchain/agents/agent.py\\\", line 1399, in _iter_next_step\\n    yield self._perform_agent_action(\\n  File \\\"/usr/local/lib/python3.10/site-packages/langchain/agents/agent.py\\\", line 1421, in _perform_agent_action\\n    observation = tool.run(\\n  File \\\"/usr/local/lib/python3.10/site-packages/langchain_core/tools/base.py\\\", line 585, in run\\n    raise error_to_raise\\n  File \\\"/usr/local/lib/python3.10/site-packages/langchain_core/tools/base.py\\\", line 554, in run\\n    response = context.run(self._run, *tool_args, **tool_kwargs)\\n  File \\\"/usr/local/lib/python3.10/site-packages/langchain_core/tools/structured.py\\\", line 69, in _run\\n    return self.func(*args, **kwargs)\\n  File \\\"<ipython-input-6-40f6b08e3089>\\\", line 13, in search_kaggle_movies\\n  File \\\"/usr/local/lib/python3.10/site-packages/langchain_core/retrievers.py\\\", line 251, in invoke\\n    raise e\\n  File \\\"/usr/local/lib/python3.10/site-packages/langchain_core/retrievers.py\\\", line 244, in invoke\\n    result = self._get_relevant_documents(\\n  File \\\"/usr/local/lib/python3.10/site-packages/langchain_google_community/vertex_ai_search.py\\\", line 380, in _get_relevant_documents\\n    response = self._client.search(search_request)\\n  File \\\"/usr/local/lib/python3.10/site-packages/google/cloud/discoveryengine_v1beta/services/search_service/client.py\\\", line 887, in search\\n    response = rpc(\\n  File \\\"/usr/local/lib/python3.10/site-packages/google/api_core/gapic_v1/method.py\\\", line 131, in __call__\\n    return wrapped_func(*args, **kwargs)\\n  File \\\"/usr/local/lib/python3.10/site-packages/google/api_core/grpc_helpers.py\\\", line 78, in error_remapped_callable\\n    raise exceptions.from_grpc_error(exc) from exc\\ngoogle.api_core.exceptions.PermissionDenied: 403 Permission 'discoveryengine.servingConfigs.search' denied on resource '//discoveryengine.googleapis.com/projects/ololand-mvp/locations/global/dataStores/web-scrape-datastore_1723849847882/servingConfigs/default_config' (or it may not exist). [reason: \\\"IAM_PERMISSION_DENIED\\\"\\ndomain: \\\"discoveryengine.googleapis.com\\\"\\nmetadata {\\n  key: \\\"resource\\\"\\n  value: \\\"projects/ololand-mvp/locations/global/dataStores/web-scrape-datastore_1723849847882/servingConfigs/default_config\\\"\\n}\\nmetadata {\\n  key: \\\"permission\\\"\\n  value: \\\"discoveryengine.servingConfigs.search\\\"\\n}\\n]\\n\"}",
          "traceback": [
            "\u001b[0;31m---------------------------------------------------------------------------\u001b[0m",
            "\u001b[0;31m_InactiveRpcError\u001b[0m                         Traceback (most recent call last)",
            "\u001b[0;32m/usr/local/lib/python3.10/dist-packages/google/api_core/grpc_helpers.py\u001b[0m in \u001b[0;36merror_remapped_callable\u001b[0;34m(*args, **kwargs)\u001b[0m\n\u001b[1;32m     75\u001b[0m         \u001b[0;32mtry\u001b[0m\u001b[0;34m:\u001b[0m\u001b[0;34m\u001b[0m\u001b[0;34m\u001b[0m\u001b[0m\n\u001b[0;32m---> 76\u001b[0;31m             \u001b[0;32mreturn\u001b[0m \u001b[0mcallable_\u001b[0m\u001b[0;34m(\u001b[0m\u001b[0;34m*\u001b[0m\u001b[0margs\u001b[0m\u001b[0;34m,\u001b[0m \u001b[0;34m**\u001b[0m\u001b[0mkwargs\u001b[0m\u001b[0;34m)\u001b[0m\u001b[0;34m\u001b[0m\u001b[0;34m\u001b[0m\u001b[0m\n\u001b[0m\u001b[1;32m     77\u001b[0m         \u001b[0;32mexcept\u001b[0m \u001b[0mgrpc\u001b[0m\u001b[0;34m.\u001b[0m\u001b[0mRpcError\u001b[0m \u001b[0;32mas\u001b[0m \u001b[0mexc\u001b[0m\u001b[0;34m:\u001b[0m\u001b[0;34m\u001b[0m\u001b[0;34m\u001b[0m\u001b[0m\n",
            "\u001b[0;32m/usr/local/lib/python3.10/dist-packages/grpc/_channel.py\u001b[0m in \u001b[0;36m__call__\u001b[0;34m(self, request, timeout, metadata, credentials, wait_for_ready, compression)\u001b[0m\n\u001b[1;32m   1180\u001b[0m         )\n\u001b[0;32m-> 1181\u001b[0;31m         \u001b[0;32mreturn\u001b[0m \u001b[0m_end_unary_response_blocking\u001b[0m\u001b[0;34m(\u001b[0m\u001b[0mstate\u001b[0m\u001b[0;34m,\u001b[0m \u001b[0mcall\u001b[0m\u001b[0;34m,\u001b[0m \u001b[0;32mFalse\u001b[0m\u001b[0;34m,\u001b[0m \u001b[0;32mNone\u001b[0m\u001b[0;34m)\u001b[0m\u001b[0;34m\u001b[0m\u001b[0;34m\u001b[0m\u001b[0m\n\u001b[0m\u001b[1;32m   1182\u001b[0m \u001b[0;34m\u001b[0m\u001b[0m\n",
            "\u001b[0;32m/usr/local/lib/python3.10/dist-packages/grpc/_channel.py\u001b[0m in \u001b[0;36m_end_unary_response_blocking\u001b[0;34m(state, call, with_call, deadline)\u001b[0m\n\u001b[1;32m   1005\u001b[0m     \u001b[0;32melse\u001b[0m\u001b[0;34m:\u001b[0m\u001b[0;34m\u001b[0m\u001b[0;34m\u001b[0m\u001b[0m\n\u001b[0;32m-> 1006\u001b[0;31m         \u001b[0;32mraise\u001b[0m \u001b[0m_InactiveRpcError\u001b[0m\u001b[0;34m(\u001b[0m\u001b[0mstate\u001b[0m\u001b[0;34m)\u001b[0m  \u001b[0;31m# pytype: disable=not-instantiable\u001b[0m\u001b[0;34m\u001b[0m\u001b[0;34m\u001b[0m\u001b[0m\n\u001b[0m\u001b[1;32m   1007\u001b[0m \u001b[0;34m\u001b[0m\u001b[0m\n",
            "\u001b[0;31m_InactiveRpcError\u001b[0m: <_InactiveRpcError of RPC that terminated with:\n\tstatus = StatusCode.FAILED_PRECONDITION\n\tdetails = \"Reasoning Engine Execution failed.\nYou can go to Cloud Logging (https://console.cloud.google.com/logs/query;query=7403319653071585280?project=144426112498) to see more details. You can use Troubleshooting Guidelines to help you debug: https://cloud.google.com/vertex-ai/generative-ai/docs/reasoning-engine/troubleshooting/use. If you need help, please file a GitHub Issue at https://github.com/googleapis/python-aiplatform/issues/new.\nError Details: {\"detail\":\"Traceback (most recent call last):\\n  File \\\"/usr/local/lib/python3.10/site-packages/google/api_core/grpc_helpers.py\\\", line 76, in error_remapped_callable\\n    return callable_(*args, **kwargs)\\n  File \\\"/usr/local/lib/python3.10/site-packages/grpc/_channel.py\\\", line 1181, in __call__\\n    return _end_unary_response_blocking(state, call, False, None)\\n  File \\\"/usr/local/lib/python3.10/site-packages/grpc/_channel.py\\\", line 1006, in _end_unary_response_blocking\\n    raise _InactiveRpcError(state)  # pytype: disable=not-instantiable\\ngrpc._channel._InactiveRpcError: <_InactiveRpcError of RPC that terminated with:\\n\\tstatus = StatusCode.PERMISSION_DENIED\\n\\tdetails = \\\"Permission 'discoveryengine.servingConfigs.search' denied on resource '//discoveryengine.googleapis.com/projects/ololand-mvp/locations/global/dataStores/web-scrape-datastore_1723849847882/servingConfigs/default_config' (or it may not exist).\\\"\\n\\tdebug_error_string = \\\"UNKNOWN:Error received from peer ipv4:74.125.126.95:443 {created_time:\\\"2024-08-21T06:21:25.280062525+00:00\\\", grpc_status:7, grpc_message:\\\"Permission \\\\'discoveryengine.servingConfigs.search\\\\' denied on resource \\\\'//discoveryengine.googleapis.com/projects/ololand-mvp/locations/global/dataStores/web-scrape-datastore_1723849847882/servingConfigs/default_config\\\\' (or it may not exist).\\\"}\\\"\\n>\\n\\nThe above exception was the direct cause of the following exception:\\n\\nTraceback (most recent call last):\\n  File \\\"/cod...\n\tdebug_error_string = \"UNKNOWN:Error received from peer ipv4:74.125.128.95:443 {created_time:\"2024-08-21T06:21:25.342658444+00:00\", grpc_status:9, grpc_message:\"Reasoning Engine Execution failed.\\nYou can go to Cloud Logging (https://console.cloud.google.com/logs/query;query=7403319653071585280?project=144426112498) to see more details. You can use Troubleshooting Guidelines to help you debug: https://cloud.google.com/vertex-ai/generative-ai/docs/reasoning-engine/troubleshooting/use. If you need help, please file a GitHub Issue at https://github.com/googleapis/python-aiplatform/issues/new.\\nError Details: {\\\"detail\\\":\\\"Traceback (most recent call last):\\\\n  File \\\\\\\"/usr/local/lib/python3.10/site-packages/google/api_core/grpc_helpers.py\\\\\\\", line 76, in error_remapped_callable\\\\n    return callable_(*args, **kwargs)\\\\n  File \\\\\\\"/usr/local/lib/python3.10/site-packages/grpc/_channel.py\\\\\\\", line 1181, in __call__\\\\n    return _end_unary_response_blocking(state, call, False, None)\\\\n  File \\\\\\\"/usr/local/lib/python3.10/site-packages/grpc/_channel.py\\\\\\\", line 1006, in _end_unary_response_blocking\\\\n    raise _InactiveRpcError(state)  # pytype: disable=not-instantiable\\\\ngrpc._channel._InactiveRpcError: <_InactiveRpcError of RPC that terminated with:\\\\n\\\\tstatus = StatusCode.PERMISSION_DENIED\\\\n\\\\tdetails = \\\\\\\"Permission \\'discoveryengine.servingConfigs.search\\' denied on resource \\'//discoveryengine.googleapis.com/projects/ololand-mvp/locations/global/dataStores/web-scrape-...\n>",
            "\nThe above exception was the direct cause of the following exception:\n",
            "\u001b[0;31mFailedPrecondition\u001b[0m                        Traceback (most recent call last)",
            "\u001b[0;32m<ipython-input-18-c75b08cbc05a>\u001b[0m in \u001b[0;36m<cell line: 1>\u001b[0;34m()\u001b[0m\n\u001b[0;32m----> 1\u001b[0;31m response = remote_agent.query(\n\u001b[0m\u001b[1;32m      2\u001b[0m     \u001b[0minput\u001b[0m\u001b[0;34m=\u001b[0m\u001b[0;34m\"Who are the actors in The Matrix?\"\u001b[0m\u001b[0;34m,\u001b[0m\u001b[0;34m\u001b[0m\u001b[0;34m\u001b[0m\u001b[0m\n\u001b[1;32m      3\u001b[0m     \u001b[0mconfig\u001b[0m\u001b[0;34m=\u001b[0m\u001b[0;34m{\u001b[0m\u001b[0;34m\"configurable\"\u001b[0m\u001b[0;34m:\u001b[0m \u001b[0;34m{\u001b[0m\u001b[0;34m\"session_id\"\u001b[0m\u001b[0;34m:\u001b[0m \u001b[0;34m\"demo\"\u001b[0m\u001b[0;34m}\u001b[0m\u001b[0;34m}\u001b[0m\u001b[0;34m,\u001b[0m\u001b[0;34m\u001b[0m\u001b[0;34m\u001b[0m\u001b[0m\n\u001b[1;32m      4\u001b[0m )\n\u001b[1;32m      5\u001b[0m \u001b[0;34m\u001b[0m\u001b[0m\n",
            "\u001b[0;32m/usr/local/lib/python3.10/dist-packages/vertexai/reasoning_engines/_reasoning_engines.py\u001b[0m in \u001b[0;36mquery\u001b[0;34m(self, **kwargs)\u001b[0m\n\u001b[1;32m    345\u001b[0m             \u001b[0mdict\u001b[0m\u001b[0;34m[\u001b[0m\u001b[0mstr\u001b[0m\u001b[0;34m,\u001b[0m \u001b[0mAny\u001b[0m\u001b[0;34m]\u001b[0m\u001b[0;34m:\u001b[0m \u001b[0mThe\u001b[0m \u001b[0mresponse\u001b[0m \u001b[0;32mfrom\u001b[0m \u001b[0mserving\u001b[0m \u001b[0mthe\u001b[0m \u001b[0muser\u001b[0m \u001b[0mquery\u001b[0m\u001b[0;34m.\u001b[0m\u001b[0;34m\u001b[0m\u001b[0;34m\u001b[0m\u001b[0m\n\u001b[1;32m    346\u001b[0m         \"\"\"\n\u001b[0;32m--> 347\u001b[0;31m         response = self.execution_api_client.query_reasoning_engine(\n\u001b[0m\u001b[1;32m    348\u001b[0m             request=types.QueryReasoningEngineRequest(\n\u001b[1;32m    349\u001b[0m                 \u001b[0mname\u001b[0m\u001b[0;34m=\u001b[0m\u001b[0mself\u001b[0m\u001b[0;34m.\u001b[0m\u001b[0mresource_name\u001b[0m\u001b[0;34m,\u001b[0m\u001b[0;34m\u001b[0m\u001b[0;34m\u001b[0m\u001b[0m\n",
            "\u001b[0;32m/usr/local/lib/python3.10/dist-packages/google/cloud/aiplatform_v1beta1/services/reasoning_engine_execution_service/client.py\u001b[0m in \u001b[0;36mquery_reasoning_engine\u001b[0;34m(self, request, retry, timeout, metadata)\u001b[0m\n\u001b[1;32m    784\u001b[0m \u001b[0;34m\u001b[0m\u001b[0m\n\u001b[1;32m    785\u001b[0m         \u001b[0;31m# Send the request.\u001b[0m\u001b[0;34m\u001b[0m\u001b[0;34m\u001b[0m\u001b[0m\n\u001b[0;32m--> 786\u001b[0;31m         response = rpc(\n\u001b[0m\u001b[1;32m    787\u001b[0m             \u001b[0mrequest\u001b[0m\u001b[0;34m,\u001b[0m\u001b[0;34m\u001b[0m\u001b[0;34m\u001b[0m\u001b[0m\n\u001b[1;32m    788\u001b[0m             \u001b[0mretry\u001b[0m\u001b[0;34m=\u001b[0m\u001b[0mretry\u001b[0m\u001b[0;34m,\u001b[0m\u001b[0;34m\u001b[0m\u001b[0;34m\u001b[0m\u001b[0m\n",
            "\u001b[0;32m/usr/local/lib/python3.10/dist-packages/google/api_core/gapic_v1/method.py\u001b[0m in \u001b[0;36m__call__\u001b[0;34m(self, timeout, retry, compression, *args, **kwargs)\u001b[0m\n\u001b[1;32m    129\u001b[0m             \u001b[0mkwargs\u001b[0m\u001b[0;34m[\u001b[0m\u001b[0;34m\"compression\"\u001b[0m\u001b[0;34m]\u001b[0m \u001b[0;34m=\u001b[0m \u001b[0mcompression\u001b[0m\u001b[0;34m\u001b[0m\u001b[0;34m\u001b[0m\u001b[0m\n\u001b[1;32m    130\u001b[0m \u001b[0;34m\u001b[0m\u001b[0m\n\u001b[0;32m--> 131\u001b[0;31m         \u001b[0;32mreturn\u001b[0m \u001b[0mwrapped_func\u001b[0m\u001b[0;34m(\u001b[0m\u001b[0;34m*\u001b[0m\u001b[0margs\u001b[0m\u001b[0;34m,\u001b[0m \u001b[0;34m**\u001b[0m\u001b[0mkwargs\u001b[0m\u001b[0;34m)\u001b[0m\u001b[0;34m\u001b[0m\u001b[0;34m\u001b[0m\u001b[0m\n\u001b[0m\u001b[1;32m    132\u001b[0m \u001b[0;34m\u001b[0m\u001b[0m\n\u001b[1;32m    133\u001b[0m \u001b[0;34m\u001b[0m\u001b[0m\n",
            "\u001b[0;32m/usr/local/lib/python3.10/dist-packages/google/api_core/grpc_helpers.py\u001b[0m in \u001b[0;36merror_remapped_callable\u001b[0;34m(*args, **kwargs)\u001b[0m\n\u001b[1;32m     76\u001b[0m             \u001b[0;32mreturn\u001b[0m \u001b[0mcallable_\u001b[0m\u001b[0;34m(\u001b[0m\u001b[0;34m*\u001b[0m\u001b[0margs\u001b[0m\u001b[0;34m,\u001b[0m \u001b[0;34m**\u001b[0m\u001b[0mkwargs\u001b[0m\u001b[0;34m)\u001b[0m\u001b[0;34m\u001b[0m\u001b[0;34m\u001b[0m\u001b[0m\n\u001b[1;32m     77\u001b[0m         \u001b[0;32mexcept\u001b[0m \u001b[0mgrpc\u001b[0m\u001b[0;34m.\u001b[0m\u001b[0mRpcError\u001b[0m \u001b[0;32mas\u001b[0m \u001b[0mexc\u001b[0m\u001b[0;34m:\u001b[0m\u001b[0;34m\u001b[0m\u001b[0;34m\u001b[0m\u001b[0m\n\u001b[0;32m---> 78\u001b[0;31m             \u001b[0;32mraise\u001b[0m \u001b[0mexceptions\u001b[0m\u001b[0;34m.\u001b[0m\u001b[0mfrom_grpc_error\u001b[0m\u001b[0;34m(\u001b[0m\u001b[0mexc\u001b[0m\u001b[0;34m)\u001b[0m \u001b[0;32mfrom\u001b[0m \u001b[0mexc\u001b[0m\u001b[0;34m\u001b[0m\u001b[0;34m\u001b[0m\u001b[0m\n\u001b[0m\u001b[1;32m     79\u001b[0m \u001b[0;34m\u001b[0m\u001b[0m\n\u001b[1;32m     80\u001b[0m     \u001b[0;32mreturn\u001b[0m \u001b[0merror_remapped_callable\u001b[0m\u001b[0;34m\u001b[0m\u001b[0;34m\u001b[0m\u001b[0m\n",
            "\u001b[0;31mFailedPrecondition\u001b[0m: 400 Reasoning Engine Execution failed.\nYou can go to Cloud Logging (https://console.cloud.google.com/logs/query;query=7403319653071585280?project=144426112498) to see more details. You can use Troubleshooting Guidelines to help you debug: https://cloud.google.com/vertex-ai/generative-ai/docs/reasoning-engine/troubleshooting/use. If you need help, please file a GitHub Issue at https://github.com/googleapis/python-aiplatform/issues/new.\nError Details: {\"detail\":\"Traceback (most recent call last):\\n  File \\\"/usr/local/lib/python3.10/site-packages/google/api_core/grpc_helpers.py\\\", line 76, in error_remapped_callable\\n    return callable_(*args, **kwargs)\\n  File \\\"/usr/local/lib/python3.10/site-packages/grpc/_channel.py\\\", line 1181, in __call__\\n    return _end_unary_response_blocking(state, call, False, None)\\n  File \\\"/usr/local/lib/python3.10/site-packages/grpc/_channel.py\\\", line 1006, in _end_unary_response_blocking\\n    raise _InactiveRpcError(state)  # pytype: disable=not-instantiable\\ngrpc._channel._InactiveRpcError: <_InactiveRpcError of RPC that terminated with:\\n\\tstatus = StatusCode.PERMISSION_DENIED\\n\\tdetails = \\\"Permission 'discoveryengine.servingConfigs.search' denied on resource '//discoveryengine.googleapis.com/projects/ololand-mvp/locations/global/dataStores/web-scrape-datastore_1723849847882/servingConfigs/default_config' (or it may not exist).\\\"\\n\\tdebug_error_string = \\\"UNKNOWN:Error received from peer ipv4:74.125.126.95:443 {created_time:\\\"2024-08-21T06:21:25.280062525+00:00\\\", grpc_status:7, grpc_message:\\\"Permission \\\\'discoveryengine.servingConfigs.search\\\\' denied on resource \\\\'//discoveryengine.googleapis.com/projects/ololand-mvp/locations/global/dataStores/web-scrape-datastore_1723849847882/servingConfigs/default_config\\\\' (or it may not exist).\\\"}\\\"\\n>\\n\\nThe above exception was the direct cause of the following exception:\\n\\nTraceback (most recent call last):\\n  File \\\"/cod..."
          ]
        }
      ],
      "source": [
        "response = remote_agent.query(\n",
        "    input=PROMPT,\n",
        "    config={\"configurable\": {\"session_id\": \"demo\"}},\n",
        ")\n",
        "\n",
        "display(Markdown(response[\"output\"]))"
      ]
    },
    {
      "cell_type": "code",
      "execution_count": null,
      "metadata": {
        "id": "JqF_diFxOg0V",
        "outputId": "b773e190-c1d2-4600-9898-b6093f13749d",
        "colab": {
          "base_uri": "https://localhost:8080/",
          "height": 64
        }
      },
      "outputs": [
        {
          "output_type": "display_data",
          "data": {
            "text/plain": [
              "<IPython.core.display.Markdown object>"
            ],
            "text/markdown": "Please clarify which actors you're interested in.  Tell me the movie title and the actor's name, and I can see what other films they've been in. \n"
          },
          "metadata": {}
        }
      ],
      "source": [
        "response = remote_agent.query(\n",
        "    input=\"Are those actors in any other movies?\",\n",
        "    config={\"configurable\": {\"session_id\": \"demo\"}},\n",
        ")\n",
        "\n",
        "display(Markdown(response[\"output\"]))"
      ]
    },
    {
      "cell_type": "markdown",
      "metadata": {
        "id": "ZKpOM_seOg0V"
      },
      "source": [
        "### Reusing your deployed agent from other applications or SDKs"
      ]
    },
    {
      "cell_type": "markdown",
      "metadata": {
        "id": "a2-gZZ1aOg0V"
      },
      "source": [
        "You can now import and use the remotely deployed Reasoning Engine in this notebook session or in a different notebook or Python script by uncommenting and adapting the following code:"
      ]
    },
    {
      "cell_type": "code",
      "execution_count": null,
      "metadata": {
        "id": "0DTiRr5AOg0V"
      },
      "outputs": [],
      "source": [
        "# from vertexai.preview import reasoning_engines\n",
        "\n",
        "# PROJECT_ID = \"YOUR_PROJECT_ID\"\n",
        "# LOCATION = \"YOUR_LOCATION\"\n",
        "# REASONING_ENGINE_ID = \"YOUR_REASONING_ENGINE_ID\"\n",
        "\n",
        "# remote_agent = reasoning_engines.ReasoningEngine(f\"projects/{PROJECT_ID}/locations/{LOCATION}/reasoningEngines/{REASONING_ENGINE_ID}\")\n",
        "# response = remote_agent.query(input=query)"
      ]
    },
    {
      "cell_type": "markdown",
      "metadata": {
        "id": "Lj0WIADGOg0V"
      },
      "source": [
        "Or, you can query your agent from other programming languages using any of the [available client libraries in Vertex AI](https://cloud.google.com/vertex-ai/docs/start/client-libraries), including C#, Java, Node.js, Python, Go, or REST API."
      ]
    },
    {
      "cell_type": "markdown",
      "metadata": {
        "id": "eOF8GyDJOg0V"
      },
      "source": [
        "## Cleaning up\n",
        "\n",
        "After you've finished experimenting, it's a good practice to clean up your cloud resources. You can delete the deployed Reasoning Engine instance to avoid any unexpected charges on your Google Cloud account."
      ]
    },
    {
      "cell_type": "code",
      "execution_count": null,
      "metadata": {
        "id": "CmaSeHE6Og0V"
      },
      "outputs": [],
      "source": [
        "remote_agent.delete()"
      ]
    }
  ],
  "metadata": {
    "colab": {
      "provenance": [],
      "include_colab_link": true
    },
    "environment": {
      "kernel": "conda-root-py",
      "name": "workbench-notebooks.m115",
      "type": "gcloud",
      "uri": "gcr.io/deeplearning-platform-release/workbench-notebooks:m115"
    },
    "kernelspec": {
      "display_name": "Python 3 (ipykernel)",
      "language": "python",
      "name": "python3"
    },
    "language_info": {
      "codemirror_mode": {
        "name": "ipython",
        "version": 3
      },
      "file_extension": ".py",
      "mimetype": "text/x-python",
      "name": "python",
      "nbconvert_exporter": "python",
      "pygments_lexer": "ipython3",
      "version": "3.11.8"
    }
  },
  "nbformat": 4,
  "nbformat_minor": 0
}